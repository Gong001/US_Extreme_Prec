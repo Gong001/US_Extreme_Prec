{
 "cells": [
  {
   "cell_type": "code",
   "execution_count": 26,
   "id": "a27655a1-7878-43e8-a218-b8a5854e0f90",
   "metadata": {
    "tags": []
   },
   "outputs": [],
   "source": [
    "import os\n",
    "import numpy as np\n",
    "import pandas as pd\n",
    "import xarray as xr"
   ]
  },
  {
   "cell_type": "code",
   "execution_count": 27,
   "id": "dcd81902-7959-48b1-840f-e3a7b97c1251",
   "metadata": {
    "tags": []
   },
   "outputs": [],
   "source": [
    "df = pd.read_csv('sumup_test.csv')"
   ]
  },
  {
   "cell_type": "code",
   "execution_count": 28,
   "id": "00f75d99-67c1-4cee-9c5a-57f29b370da9",
   "metadata": {
    "tags": []
   },
   "outputs": [],
   "source": [
    "df['datetime'] = pd.to_datetime(df['datetime'], format='%Y%m%d%H')\n",
    "df_season = df[df['datetime'].dt.month.isin([6, 7, 8])]\n",
    "df_season.iloc[:, 1:] = df_season.iloc[:, 1:].applymap(lambda x: x if x >= 0.1 else np.nan)"
   ]
  },
  {
   "cell_type": "code",
   "execution_count": 36,
   "id": "81f9ee12-ee1c-4595-9a2a-962b282edcfa",
   "metadata": {
    "tags": []
   },
   "outputs": [],
   "source": [
    "def calculate_yearly_hourly_rainfall_frequency(df_season):\n",
    "    stations = df_season.columns[1:]  # Exclude the 'datetime' column\n",
    "    yearly_hourly_rainfall = pd.DataFrame({'year': np.repeat(range(1900, 2014), 24), 'hour': list(range(24)) * 114})\n",
    "    \n",
    "    for station in stations:\n",
    "        station_data = df_season[['datetime', station]].dropna(subset=[station])\n",
    "        station_data['Year'] = pd.to_datetime(station_data['datetime']).dt.year\n",
    "        station_data['Hour'] = pd.to_datetime(station_data['datetime']).dt.hour\n",
    "        \n",
    "        # Count rainfall occurrences by year and hour\n",
    "        rainfall_count = station_data.groupby(['Year', 'Hour'])[station].count().reset_index()\n",
    "        rainfall_pivot = rainfall_count.pivot(index='Year', columns='Hour', values=station).fillna(0)\n",
    "        \n",
    "        # Flatten the pivoted data and merge it into the result DataFrame\n",
    "        rainfall_pivot_flattened = rainfall_pivot.unstack().reset_index(name=station)\n",
    "        yearly_hourly_rainfall = yearly_hourly_rainfall.merge(rainfall_pivot_flattened, how='left', \n",
    "                                                             left_on=['year', 'hour'], right_on=['Year', 'Hour'])\n",
    "        yearly_hourly_rainfall[station] = yearly_hourly_rainfall[station].fillna(0).astype(int)\n",
    "        yearly_hourly_rainfall.drop(columns=['Year', 'Hour'], inplace=True)\n",
    "\n",
    "    return yearly_hourly_rainfall\n",
    "\n",
    "# Example usage:\n",
    "rainfall_frequency = calculate_yearly_hourly_rainfall_frequency(df_season)\n",
    "rainfall_frequency.to_csv('prec_hour_count_test.csv', index=False)\n"
   ]
  },
  {
   "cell_type": "code",
   "execution_count": 37,
   "id": "a5d3418d-8f11-4c73-a5db-c305562ffe7f",
   "metadata": {
    "tags": []
   },
   "outputs": [],
   "source": [
    "df11 = pd.read_csv('prec_hour_count_test.csv')"
   ]
  },
  {
   "cell_type": "code",
   "execution_count": null,
   "id": "da36003b-4fd7-486c-bbb1-13cffdfd3be3",
   "metadata": {},
   "outputs": [],
   "source": []
  }
 ],
 "metadata": {
  "kernelspec": {
   "display_name": "Python 3 (ipykernel)",
   "language": "python",
   "name": "python3"
  },
  "language_info": {
   "codemirror_mode": {
    "name": "ipython",
    "version": 3
   },
   "file_extension": ".py",
   "mimetype": "text/x-python",
   "name": "python",
   "nbconvert_exporter": "python",
   "pygments_lexer": "ipython3",
   "version": "3.11.4"
  }
 },
 "nbformat": 4,
 "nbformat_minor": 5
}
