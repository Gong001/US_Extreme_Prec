{
 "cells": [
  {
   "cell_type": "code",
   "execution_count": 1,
   "id": "39b3787d-1268-4b18-b246-67e1a94da36f",
   "metadata": {
    "tags": []
   },
   "outputs": [],
   "source": [
    "### automatically refresh the buffer\n",
    "\n",
    "%load_ext autoreload\n",
    "%autoreload 2\n",
    "\n",
    "### solve the auto-complete issue\n",
    "\n",
    "%config Completer.use_jedi = False\n",
    "\n",
    "%matplotlib inline\n",
    "\n",
    "import warnings\n",
    "warnings.filterwarnings('ignore')\n",
    "warnings.simplefilter(action='ignore', category=FutureWarning)\n",
    "\n",
    "### lvl 2 setups (systerm)\n",
    "\n",
    "import os\n",
    "import numpy as np\n",
    "import pandas as pd\n",
    "import xarray as xr\n",
    "\n",
    "import matplotlib as mpl\n",
    "import cartopy.crs as ccrs\n",
    "import cartopy.feature as cfeature\n",
    "\n",
    "import cartopy.feature as cfeature\n",
    "from cartopy.mpl.ticker import LongitudeFormatter, LatitudeFormatter\n",
    "import warnings\n",
    "warnings.filterwarnings('ignore')\n",
    "from pylab import *\n",
    "from matplotlib.colors import ListedColormap,LinearSegmentedColormap\n",
    "from mpl_toolkits.axes_grid1.inset_locator import inset_axes\n",
    "from matplotlib.patches import Wedge, Circle\n",
    "import geopandas as gpd\n",
    "from shapely.geometry import Point"
   ]
  },
  {
   "cell_type": "code",
   "execution_count": 84,
   "id": "00605668-4da2-4001-984c-473fcaff1b2a",
   "metadata": {
    "tags": []
   },
   "outputs": [],
   "source": [
    "df = pd.read_csv('sumup_test.csv')"
   ]
  },
  {
   "cell_type": "code",
   "execution_count": 85,
   "id": "e20d8575-d3f9-4457-bcdc-684b27fbe265",
   "metadata": {
    "tags": []
   },
   "outputs": [],
   "source": [
    "df['datetime'] = pd.to_datetime(df['datetime'], format='%Y%m%d%H')\n",
    "df_season = df[df['datetime'].dt.month.isin([6, 7, 8])]\n",
    "df_season.iloc[:, 1:] = df_season.iloc[:, 1:].applymap(lambda x: x if x >= 0.1 else np.nan)"
   ]
  },
  {
   "cell_type": "code",
   "execution_count": 86,
   "id": "19165487-9ef7-4d57-b7c6-e2ec07ef6fe3",
   "metadata": {
    "tags": []
   },
   "outputs": [],
   "source": [
    "quantiles_99 = df_season.iloc[:,1:].quantile(0.99)\n",
    "df_99tile = df_season.iloc[:,1:].apply(lambda x: x.where(x > quantiles_99[x.name]))\n",
    "df_99tile.insert(0, 'datetime', df_season.iloc[:, 0])"
   ]
  },
  {
   "cell_type": "code",
   "execution_count": 87,
   "id": "b4ef5ec0-bb74-4750-8924-9809278e42b3",
   "metadata": {
    "tags": []
   },
   "outputs": [],
   "source": [
    "\n",
    "df_99tile['datetime'] = pd.to_datetime(df_99tile['datetime'])\n",
    "df_99tile['Year'] = df_99tile['datetime'].dt.year\n",
    "df_99tile['Hour'] = df_99tile['datetime'].dt.hour\n",
    "df_99tile = df_99tile.drop(columns=['datetime'])\n",
    "df_avg_hourly = df_99tile.groupby(['Year', 'Hour'], as_index=False).mean()\n",
    "\n",
    "\n",
    "df_avg_hourly.to_csv('EP99_test.csv')"
   ]
  },
  {
   "cell_type": "code",
   "execution_count": null,
   "id": "de5b788a-4b3e-4a73-bc0f-04ecde583ded",
   "metadata": {},
   "outputs": [],
   "source": []
  }
 ],
 "metadata": {
  "kernelspec": {
   "display_name": "Python 3 (ipykernel)",
   "language": "python",
   "name": "python3"
  },
  "language_info": {
   "codemirror_mode": {
    "name": "ipython",
    "version": 3
   },
   "file_extension": ".py",
   "mimetype": "text/x-python",
   "name": "python",
   "nbconvert_exporter": "python",
   "pygments_lexer": "ipython3",
   "version": "3.11.4"
  }
 },
 "nbformat": 4,
 "nbformat_minor": 5
}
