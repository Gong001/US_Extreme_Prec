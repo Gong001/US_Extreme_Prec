{
 "cells": [
  {
   "cell_type": "code",
   "execution_count": 1,
   "id": "c19d39f5-ddee-4d8e-87b4-f6bcc66cf41f",
   "metadata": {
    "tags": []
   },
   "outputs": [],
   "source": [
    "import sys\n",
    "\n",
    "import warnings\n",
    "warnings.filterwarnings('ignore')\n",
    "warnings.simplefilter(action='ignore', category=FutureWarning)\n",
    "\n",
    "### lvl 2 setups (systerm)\n",
    "\n",
    "import os\n",
    "import numpy as np\n",
    "import pandas as pd\n",
    "import xarray as xr"
   ]
  },
  {
   "cell_type": "code",
   "execution_count": 2,
   "id": "f96272f2-48c7-4eae-8237-3da79a691adf",
   "metadata": {
    "tags": []
   },
   "outputs": [],
   "source": [
    "def circular_mean(hours):\n",
    "    angles = np.array(hours) * (360 / 24)\n",
    "\n",
    "    sin_angles = np.sin(np.radians(angles))\n",
    "    cos_angles = np.cos(np.radians(angles))\n",
    "\n",
    "    mean_sin = np.mean(sin_angles)\n",
    "    mean_cos = np.mean(cos_angles)\n",
    "\n",
    "    mean_angle = np.arctan2(mean_sin, mean_cos) * (180 / np.pi)\n",
    "\n",
    "    if mean_angle < 0:\n",
    "        mean_angle += 360\n",
    "\n",
    "    mean_hour = mean_angle * 24 / 360\n",
    "    \n",
    "    return mean_hour\n"
   ]
  },
  {
   "cell_type": "code",
   "execution_count": 3,
   "id": "701aa9c3-22cb-4b7b-8519-6da455362cf7",
   "metadata": {},
   "outputs": [],
   "source": [
    "df = pd.read_csv('sumup_test.csv')"
   ]
  },
  {
   "cell_type": "code",
   "execution_count": 4,
   "id": "5ab0c67f-dafd-4098-9a7d-8eb9d4c9930f",
   "metadata": {
    "tags": []
   },
   "outputs": [],
   "source": [
    "df['datetime'] = pd.to_datetime(df['datetime'], format='%Y%m%d%H')\n",
    "df_season = df[df['datetime'].dt.month.isin([6, 7, 8])]\n",
    "df_season.iloc[:, 1:] = df_season.iloc[:, 1:].applymap(lambda x: x if x >= 0.1 else np.nan)\n",
    "\n",
    "\n",
    "# calculate 99tile ---------------\n",
    "quantiles_99 = df_season.iloc[:,1:].quantile(0.99)\n",
    "df_99tile = df_season.iloc[:,1:].apply(lambda x: x.where(x > quantiles_99[x.name]))\n",
    "df_99tile.insert(0, 'datetime', df_season.iloc[:, 0])\n"
   ]
  },
  {
   "cell_type": "code",
   "execution_count": 5,
   "id": "0f246678-b049-4f4d-b6bd-76fd6b20ca41",
   "metadata": {
    "tags": []
   },
   "outputs": [],
   "source": [
    "def calculate_circular_means(df_season):\n",
    "\n",
    "    years = range(1900, 2014)\n",
    "    stations = df_season.columns[1:]  \n",
    "    result_df = pd.DataFrame(index=years, columns=stations)\n",
    "    \n",
    "\n",
    "    df_season['datetime'] = pd.to_datetime(df_season['datetime'])\n",
    "    df_season['year'] = df_season['datetime'].dt.year\n",
    "    df_season['hour'] = df_season['datetime'].dt.hour\n",
    "    \n",
    "    for station in stations:\n",
    "        for year in years:\n",
    "\n",
    "            yearly_data = df_season[df_season['year'] == year]\n",
    "            \n",
    "\n",
    "            rain_hours = yearly_data[station].dropna().index.tolist()\n",
    "            if rain_hours:\n",
    "                arr_rain_time = yearly_data.loc[rain_hours, 'hour'].tolist()\n",
    "\n",
    "                mean_hour = circular_mean(arr_rain_time)\n",
    "                result_df.at[year, station] = mean_hour\n",
    "\n",
    "    return result_df\n",
    "df_circular_mean = calculate_circular_means(df_99tile)\n",
    "df_circular_mean.to_csv('circular_mean_99tile_test.csv', index=False)"
   ]
  },
  {
   "cell_type": "code",
   "execution_count": 6,
   "id": "9301ef12-35ab-42f1-907e-345bc59457f9",
   "metadata": {
    "tags": []
   },
   "outputs": [],
   "source": [
    "quantiles_99_df = pd.DataFrame([quantiles_99], columns=df_season.columns[1:])\n",
    "quantiles_99_df.to_csv('quantiles_99_threshold_test.csv', index=False)\n"
   ]
  },
  {
   "cell_type": "code",
   "execution_count": null,
   "id": "b0cdc586-7db1-4828-b7a9-eaaa09f0d766",
   "metadata": {},
   "outputs": [],
   "source": []
  }
 ],
 "metadata": {
  "kernelspec": {
   "display_name": "Python 3 (ipykernel)",
   "language": "python",
   "name": "python3"
  },
  "language_info": {
   "codemirror_mode": {
    "name": "ipython",
    "version": 3
   },
   "file_extension": ".py",
   "mimetype": "text/x-python",
   "name": "python",
   "nbconvert_exporter": "python",
   "pygments_lexer": "ipython3",
   "version": "3.11.4"
  }
 },
 "nbformat": 4,
 "nbformat_minor": 5
}
