{
 "cells": [
  {
   "cell_type": "code",
   "execution_count": 1,
   "id": "3a52d3ef-a388-4ad6-a32b-82bee4041bb6",
   "metadata": {},
   "outputs": [],
   "source": [
    "import pygrib\n",
    "import xarray as xr\n",
    "import pandas as pd\n",
    "import numpy as np\n",
    "import matplotlib.pyplot as plt\n",
    "import glob\n",
    "import os\n",
    "import re\n",
    "import random\n",
    "from collections import defaultdict\n",
    "import datetime"
   ]
  },
  {
   "cell_type": "code",
   "execution_count": 2,
   "id": "6249a509-0564-480c-b97e-7cc6090eb6c3",
   "metadata": {},
   "outputs": [],
   "source": [
    "folder = '/N/project/Zli_lab/gongg/stage4_data/stage4_nc/'\n",
    "file = '2021050900.nc'"
   ]
  },
  {
   "cell_type": "code",
   "execution_count": 49,
   "id": "0d83f818-c0f0-4a64-94a7-70bced90fe23",
   "metadata": {},
   "outputs": [],
   "source": [
    "files = [\n",
    "    \"ST4.2003071123.01h\",\n",
    "    \"ST4.2003071200.01h\",\n",
    "    \"ST4.2003071201.01h\",\n",
    "    \"ST4.2003071202.01h\",\n",
    "    \"ST4.2003071203.01h\",\n",
    "    \"ST4.2003071204.01h\",\n",
    "    \"ST4.2003071205.01h\",\n",
    "    \"ST4.2003071206.01h\",\n",
    "    \"ST4.2003082619.01h\",\n",
    "    \"ST4.2003082620.01h\",\n",
    "    \"ST4.2003082621.01h\",\n",
    "    \"ST4.2003082622.01h\",\n",
    "    \"ST4.2003082623.01h\",\n",
    "    \"ST4.2003082700.01h\"\n",
    "]\n",
    "\n",
    "time_list = [f.split('.')[1] for f in files]\n"
   ]
  },
  {
   "cell_type": "code",
   "execution_count": 50,
   "id": "595a6a8e-5cc1-4b00-87b7-c7edb8f67b91",
   "metadata": {},
   "outputs": [
    {
     "data": {
      "text/plain": [
       "['2003071123',\n",
       " '2003071200',\n",
       " '2003071201',\n",
       " '2003071202',\n",
       " '2003071203',\n",
       " '2003071204',\n",
       " '2003071205',\n",
       " '2003071206',\n",
       " '2003082619',\n",
       " '2003082620',\n",
       " '2003082621',\n",
       " '2003082622',\n",
       " '2003082623',\n",
       " '2003082700']"
      ]
     },
     "execution_count": 50,
     "metadata": {},
     "output_type": "execute_result"
    }
   ],
   "source": [
    "time_list"
   ]
  },
  {
   "cell_type": "code",
   "execution_count": 51,
   "id": "a72f4a97-bf5c-4e00-9029-5eb1bbf0d666",
   "metadata": {},
   "outputs": [],
   "source": [
    "ds = xr.open_dataset(folder + file)"
   ]
  },
  {
   "cell_type": "code",
   "execution_count": 52,
   "id": "cbc8813a-b2d3-45d4-9b9a-06e1de15912b",
   "metadata": {},
   "outputs": [],
   "source": [
    "aa = ds.tp.values\n",
    "aa[:] = np.nan"
   ]
  },
  {
   "cell_type": "code",
   "execution_count": 53,
   "id": "4aaf3802-e4e4-4cd2-a732-4da50f20ac10",
   "metadata": {},
   "outputs": [],
   "source": [
    "ds2 = xr.Dataset(\n",
    "    {\n",
    "        \"tp\": ([\"y\", \"x\"], aa)\n",
    "    },\n",
    "    coords={\n",
    "        \"lat\": ([\"y\", \"x\"], ds.lat.values),\n",
    "        \"lon\": ([\"y\", \"x\"], ds.lon.values),\n",
    "       \n",
    "        \"time\": 1\n",
    "    }\n",
    ")"
   ]
  },
  {
   "cell_type": "code",
   "execution_count": 60,
   "id": "7d9f5389-2ef1-4196-a506-16ad2bb85176",
   "metadata": {},
   "outputs": [],
   "source": [
    "import os\n",
    "\n",
    "output_dir = \"/N/project/Zli_lab/gongg/stage4_data/stage4_nc\"\n",
    "\n",
    "for t in time_list:\n",
    "    dt = datetime.datetime.strptime(t, \"%Y%m%d%H\")\n",
    "    ds2.coords[\"time\"] = dt\n",
    "    nc_filename = os.path.join(output_dir, f\"{t}.nc\")\n",
    "    ds2.to_netcdf(nc_filename)\n"
   ]
  },
  {
   "cell_type": "code",
   "execution_count": null,
   "id": "0819c9b7-dcad-4dbf-92f4-ef473844622a",
   "metadata": {},
   "outputs": [],
   "source": []
  }
 ],
 "metadata": {
  "kernelspec": {
   "display_name": "Python 3 (ipykernel)",
   "language": "python",
   "name": "python3"
  },
  "language_info": {
   "codemirror_mode": {
    "name": "ipython",
    "version": 3
   },
   "file_extension": ".py",
   "mimetype": "text/x-python",
   "name": "python",
   "nbconvert_exporter": "python",
   "pygments_lexer": "ipython3",
   "version": "3.10.16"
  }
 },
 "nbformat": 4,
 "nbformat_minor": 5
}
