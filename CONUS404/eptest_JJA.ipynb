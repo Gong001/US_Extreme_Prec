{
 "cells": [
  {
   "cell_type": "code",
   "execution_count": 9,
   "id": "63ee76b6-51df-494c-90e2-a92b2941e6e8",
   "metadata": {
    "tags": []
   },
   "outputs": [],
   "source": [
    "import warnings\n",
    "warnings.filterwarnings('ignore')\n",
    "warnings.simplefilter(action='ignore', category=FutureWarning)\n",
    "\n",
    "### lvl 2 setups (systerm)\n",
    "\n",
    "import os\n",
    "import numpy as np\n",
    "import pandas as pd\n",
    "import xarray as xr\n",
    "\n",
    "import matplotlib as mpl\n",
    "import cartopy.crs as ccrs\n",
    "import cartopy.feature as cfeature\n",
    "\n",
    "import cartopy.feature as cfeature\n",
    "from cartopy.mpl.ticker import LongitudeFormatter, LatitudeFormatter\n",
    "import warnings\n",
    "warnings.filterwarnings('ignore')\n",
    "from pylab import *\n",
    "from matplotlib.colors import ListedColormap,LinearSegmentedColormap\n",
    "from mpl_toolkits.axes_grid1.inset_locator import inset_axes\n",
    "from matplotlib.patches import Wedge, Circle\n",
    "import geopandas as gpd\n",
    "from shapely.geometry import Point\n",
    "from datetime import datetime\n",
    "import glob"
   ]
  },
  {
   "cell_type": "code",
   "execution_count": 11,
   "id": "c7feee4f-d60c-44cc-b51c-05e04b26306b",
   "metadata": {
    "tags": []
   },
   "outputs": [
    {
     "name": "stdout",
     "output_type": "stream",
     "text": [
      "[nan nan  5.]\n"
     ]
    }
   ],
   "source": [
    "import numpy as np\n",
    "\n",
    "# Create an array with float numbers and NaNs\n",
    "arr = np.array([np.nan, np.nan,5.0])\n",
    "\n",
    "print(array_with_nans)\n"
   ]
  },
  {
   "cell_type": "code",
   "execution_count": 12,
   "id": "4d4581d5-5ced-45d8-a107-158b37435a96",
   "metadata": {
    "tags": []
   },
   "outputs": [
    {
     "data": {
      "text/plain": [
       "nan"
      ]
     },
     "execution_count": 12,
     "metadata": {},
     "output_type": "execute_result"
    }
   ],
   "source": [
    "np.sum(arr)"
   ]
  },
  {
   "cell_type": "code",
   "execution_count": 6,
   "id": "3223e735-f5f6-4d58-8c68-61a0a479d973",
   "metadata": {
    "tags": []
   },
   "outputs": [],
   "source": [
    "def generate_the_99_quantile(prec_filtered,latt,lonn):\n",
    "\n",
    "    arr_the = np.nanquantile(prec_filtered, 0.99, axis=0)\n",
    "    ds_the = xr.Dataset({'p': ([ 'lat', 'lon'], arr_the)},\n",
    "                    coords={'lon': (['lon'], lonn),\n",
    "                            'lat': (['lat'], latt),})\n",
    "    return ds_the\n"
   ]
  },
  {
   "cell_type": "code",
   "execution_count": 7,
   "id": "cdee490c-385d-4fbe-900c-6db8581808a7",
   "metadata": {
    "tags": []
   },
   "outputs": [],
   "source": [
    "def create_max_datasets(arr_ep, latt, lonn):\n",
    "\n",
    "    arr_freq = arr_ep.reshape(43, 92, 24, arr_ep.shape[1], arr_ep.shape[2])\n",
    "    arr_maxp = np.nanmax(arr_freq, axis=(1, 2))\n",
    "    arr_maxh = np.nanmax(arr_freq, axis=1)\n",
    "    arr_maxh = np.nan_to_num(arr_maxh, nan=-1)\n",
    "    arr_maxh_indices = np.nanargmax(arr_maxh, axis=1)\n",
    "    arr_maxh_indices = arr_maxh_indices.astype(float)\n",
    "    nan_mask = np.isnan(arr_maxp)\n",
    "    arr_maxh_indices[nan_mask] = np.nan\n",
    "    \n",
    "    ds_maxp = xr.Dataset(\n",
    "        {'p': (['time', 'lat', 'lon'], arr_maxp)},\n",
    "        coords={\n",
    "            'lon': (['lon'], lonn),\n",
    "            'lat': (['lat'], latt),\n",
    "            'time': ('time', np.arange(1980, 2023))\n",
    "        }\n",
    "    )\n",
    "\n",
    "    ds_maxh = xr.Dataset(\n",
    "        {'h': (['time', 'lat', 'lon'], arr_maxh_indices)},\n",
    "        coords={\n",
    "            'time': (['time'], np.arange(1980, 2023)),\n",
    "            'lat': (['lat'], latt),\n",
    "            'lon': (['lon'], lonn)\n",
    "        }\n",
    "    )\n",
    "    \n",
    "    \n",
    "    arr_h = np.nanmean(~np.isnan(arr_freq), axis=1)*92\n",
    "\n",
    "    ds_hour_count = xr.Dataset(\n",
    "        {'c': (['year', 'hour', 'lat', 'lon'], arr_h)},\n",
    "        coords={\n",
    "            'year': (['year'], np.arange(1980, 2023)),\n",
    "            'hour': (['hour'], np.arange(0, 24)),\n",
    "            'lat': (['lat'], latt),\n",
    "            'lon': (['lon'], lonn)\n",
    "        }\n",
    "    )\n",
    "\n",
    "    return ds_maxp, ds_maxh, ds_hour_count"
   ]
  },
  {
   "cell_type": "code",
   "execution_count": 8,
   "id": "d37b610f-9f3d-4089-a16b-ab5dfd604a1c",
   "metadata": {
    "tags": []
   },
   "outputs": [],
   "source": [
    "def create_season_mean_dataset(arr_ep, latt, lonn):\n",
    "\n",
    "    arr_freq = arr_ep.reshape(43, 92, 24, arr_ep.shape[1], arr_ep.shape[2])\n",
    "    arr_season = np.nanmean(arr_freq, axis=1)\n",
    "    \n",
    "    ds_season_mean = xr.Dataset(\n",
    "        {'p': (['year', 'hour', 'lat', 'lon'], arr_season)},\n",
    "        coords={\n",
    "            'year': (['year'], np.arange(1980, 2023)),\n",
    "            'hour': (['hour'], np.arange(0, 24)),\n",
    "            'lat': (['lat'], latt),\n",
    "            'lon': (['lon'], lonn)\n",
    "        }\n",
    "    )\n",
    "\n",
    "    return ds_season_mean"
   ]
  },
  {
   "cell_type": "code",
   "execution_count": 79,
   "id": "bdfc8ff5-7c2f-4224-a87b-0ddf3628c164",
   "metadata": {
    "tags": []
   },
   "outputs": [
    {
     "name": "stdout",
     "output_type": "stream",
     "text": [
      "2024-10-07 10:11:52\n",
      "2024-10-07 10:19:08\n",
      "2024-10-07 10:25:55\n",
      "2024-10-07 10:32:10\n",
      "2024-10-07 10:38:26\n",
      "2024-10-07 10:44:29\n",
      "2024-10-07 10:50:45\n",
      "2024-10-07 10:56:36\n",
      "2024-10-07 11:03:07\n"
     ]
    }
   ],
   "source": [
    "base_path = '/N/project/Zli_lab/gongg/CONUS404_data/LST/UTC/'\n",
    "file_pattern = 'PREC_ACC_NC.wrf2d_d01_????-??-??.nc'\n",
    "\n",
    "folder_names = [\n",
    "  \n",
    "    'U-80', 'U-81', 'U-82', 'U-83', 'U-84', 'U-85', 'U-86', \n",
    "    'U-87', 'U-88'\n",
    "]\n",
    "\n",
    "\n",
    "for folder in folder_names:\n",
    "    print(time.strftime('%Y-%m-%d %H:%M:%S', time.localtime()))\n",
    "    full_path = os.path.join(base_path, folder, file_pattern)\n",
    "    all_files = glob.glob(full_path)\n",
    "    #####\n",
    "    summer_files = [f for f in all_files if '-06-' in f or '-07-' in f or '-08-' in f or '-09-' in f]\n",
    "    ds_summer = xr.open_mfdataset(summer_files)\n",
    "    ds_jja = ds_summer.sel(time=ds_summer['time'].dt.month.isin([6, 7, 8]))\n",
    "    lonn = ds_jja.lon.values\n",
    "    latt = ds_jja.lat.values\n",
    "    prec = ds_jja.p.values\n",
    "    prec_filtered = np.where(prec >= 0.1, prec, np.nan)\n",
    "    arr_the = np.nanpercentile(prec_filtered, 99, axis=0)\n",
    "    arr_ep = np.copy(prec_filtered)\n",
    "    arr_ep = np.where(prec_filtered >= arr_the, prec_filtered, np.nan)\n",
    "    ds_the = generate_the_99_quantile(prec_filtered, latt, lonn)\n",
    "    ds_maxp, ds_maxh, ds_hour_count = create_max_datasets(arr_ep, latt, lonn)\n",
    "    ds_season_mean = create_season_mean_dataset(arr_ep, latt, lonn)\n",
    "    output_folder = '/N/project/Zli_lab/gongg/CONUS404_data/LST/JJA/'\n",
    "    ds_the.to_netcdf(output_folder+'prec_the_'+folder+'.nc')\n",
    "    ds_maxp.to_netcdf(output_folder+'prec_maxp_'+folder+'.nc')\n",
    "    ds_maxh.to_netcdf(output_folder+'prec_maxh_'+folder+'.nc')\n",
    "    ds_hour_count.to_netcdf(output_folder+'hour_count_'+folder+'.nc')\n",
    "    ds_season_mean.to_netcdf(output_folder+'season_mean_'+folder+'.nc')"
   ]
  },
  {
   "cell_type": "code",
   "execution_count": 77,
   "id": "cf4ec287-799e-462c-8eff-7968e8aa16cf",
   "metadata": {
    "tags": []
   },
   "outputs": [
    {
     "data": {
      "text/plain": [
       "[]"
      ]
     },
     "execution_count": 77,
     "metadata": {},
     "output_type": "execute_result"
    }
   ],
   "source": [
    "summer_files"
   ]
  },
  {
   "cell_type": "code",
   "execution_count": 78,
   "id": "d1e0ca74-6aef-4cc2-9cfd-af71bfd778ee",
   "metadata": {
    "tags": []
   },
   "outputs": [
    {
     "data": {
      "text/plain": [
       "'/N/project/Zli_lab/gongg/CONUS404_data/LST/UTC/U-79/PREC_ACC_NC.wrf2d_d01_????-??-??.nc'"
      ]
     },
     "execution_count": 78,
     "metadata": {},
     "output_type": "execute_result"
    }
   ],
   "source": [
    "full_path"
   ]
  },
  {
   "cell_type": "code",
   "execution_count": null,
   "id": "097611da-ce0b-41ea-aa23-a3a14321b7f0",
   "metadata": {},
   "outputs": [],
   "source": []
  }
 ],
 "metadata": {
  "kernelspec": {
   "display_name": "Python 3 (ipykernel)",
   "language": "python",
   "name": "python3"
  },
  "language_info": {
   "codemirror_mode": {
    "name": "ipython",
    "version": 3
   },
   "file_extension": ".py",
   "mimetype": "text/x-python",
   "name": "python",
   "nbconvert_exporter": "python",
   "pygments_lexer": "ipython3",
   "version": "3.11.4"
  }
 },
 "nbformat": 4,
 "nbformat_minor": 5
}
