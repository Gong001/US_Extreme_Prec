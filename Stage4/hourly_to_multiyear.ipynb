{
 "cells": [
  {
   "cell_type": "code",
   "execution_count": 1,
   "id": "ab259196-484a-4ec8-a2ed-477c171cc0e3",
   "metadata": {},
   "outputs": [],
   "source": [
    "import xarray as xr\n",
    "import pandas as pd\n",
    "import numpy as np\n",
    "import matplotlib.pyplot as plt\n",
    "import glob\n",
    "import datetime\n",
    "import os\n",
    "import warnings\n",
    "warnings.filterwarnings('ignore')"
   ]
  },
  {
   "cell_type": "code",
   "execution_count": 2,
   "id": "885254e5-6c5b-414a-b15e-160627efbf86",
   "metadata": {},
   "outputs": [],
   "source": [
    "input_dir = '/N/project/Zli_lab/gongg/stage4_data/spatial_split'\n",
    "grib_files = sorted(glob.glob(os.path.join(input_dir,'*.nc')))"
   ]
  },
  {
   "cell_type": "code",
   "execution_count": 5,
   "id": "0554406b-f5d2-434c-be09-46140b78123b",
   "metadata": {},
   "outputs": [],
   "source": [
    "sub_0_0 = grib_files[:24]"
   ]
  },
  {
   "cell_type": "code",
   "execution_count": null,
   "id": "ae4e7dc3-2e63-4d96-9534-97cce95b5e63",
   "metadata": {},
   "outputs": [],
   "source": [
    "ds = xr.open_mfdataset(\n",
    "    sub_0_0,\n",
    "    combine='by_coords',\n",
    "    parallel=True,\n",
    "    chunks={}\n",
    ")"
   ]
  },
  {
   "cell_type": "code",
   "execution_count": null,
   "id": "290dbcb5-4ae1-4a45-acc0-74f47c4e7c22",
   "metadata": {},
   "outputs": [],
   "source": []
  },
  {
   "cell_type": "code",
   "execution_count": null,
   "id": "a9cf2f79-0efc-4c64-8d4d-6ec45abcd487",
   "metadata": {},
   "outputs": [],
   "source": []
  },
  {
   "cell_type": "code",
   "execution_count": 2,
   "id": "92169f9e-6757-483b-940d-7e913e1070f8",
   "metadata": {},
   "outputs": [
    {
     "name": "stdout",
     "output_type": "stream",
     "text": [
      "2025-03-21 17:23:09.646763\n",
      "2025-03-21 18:17:22.165936\n"
     ]
    }
   ],
   "source": [
    "input_dir = '/N/project/Zli_lab/gongg/stage4_data/stage4_nc/'\n",
    "grib_files = sorted(glob.glob(os.path.join(input_dir,'*.nc')))\n",
    "\n",
    "import os\n",
    "import xarray as xr\n",
    "print(datetime.datetime.now())\n",
    "output_dir = \"/N/project/Zli_lab/gongg/stage4_data/stage4_nc_re\"\n",
    "os.makedirs(output_dir, exist_ok=True)\n",
    "\n",
    "for file_path in grib_files[40000:]:\n",
    "\n",
    "    ds = xr.open_dataset(file_path)\n",
    "    \n",
    "    if \"time\" in ds.coords and \"time\" not in ds.dims:\n",
    "       \n",
    "        time_value = ds[\"time\"].values \n",
    "\n",
    "        ds = ds.expand_dims(\"time\")\n",
    " \n",
    "        ds[\"time\"] = [time_value]\n",
    "\n",
    "    base_name = os.path.basename(file_path) \n",
    "    out_path = os.path.join(output_dir, base_name)\n",
    "    \n",
    "    # 保存到新的文件\n",
    "    ds.to_netcdf(out_path)\n",
    "    \n",
    "    # 关闭数据集\n",
    "    ds.close()\n",
    "print(datetime.datetime.now())"
   ]
  }
 ],
 "metadata": {
  "kernelspec": {
   "display_name": "Python (gongg)",
   "language": "python",
   "name": "gongg"
  },
  "language_info": {
   "codemirror_mode": {
    "name": "ipython",
    "version": 3
   },
   "file_extension": ".py",
   "mimetype": "text/x-python",
   "name": "python",
   "nbconvert_exporter": "python",
   "pygments_lexer": "ipython3",
   "version": "3.10.16"
  }
 },
 "nbformat": 4,
 "nbformat_minor": 5
}
