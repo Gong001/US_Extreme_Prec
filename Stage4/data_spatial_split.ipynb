{
 "cells": [
  {
   "cell_type": "code",
   "execution_count": 1,
   "id": "69579d6d-d456-426a-a491-6c5139040436",
   "metadata": {},
   "outputs": [],
   "source": [
    "import pygrib\n",
    "import xarray as xr\n",
    "import pandas as pd\n",
    "import numpy as np\n",
    "import matplotlib.pyplot as plt\n",
    "import glob\n",
    "import os\n",
    "import re\n",
    "import random\n",
    "from collections import defaultdict\n",
    "import datetime\n",
    "\n",
    "import warnings\n",
    "warnings.filterwarnings('ignore')"
   ]
  },
  {
   "cell_type": "code",
   "execution_count": 24,
   "id": "d138d27e-707a-45e0-891c-33d66fea86e8",
   "metadata": {},
   "outputs": [],
   "source": [
    "input_dir = '/N/project/Zli_lab/gongg/stage4_data/stage4_nc/'\n",
    "grib_files = sorted(glob.glob(os.path.join(input_dir,'*.nc')))"
   ]
  },
  {
   "cell_type": "markdown",
   "id": "afc146b0-993a-41be-8ab3-7dd70241a05e",
   "metadata": {},
   "source": [
    "#### split data to 30 areas"
   ]
  },
  {
   "cell_type": "code",
   "execution_count": 6,
   "id": "cc4bc4b4-5c8a-44c2-bf57-29a67b98f2f2",
   "metadata": {},
   "outputs": [
    {
     "name": "stdout",
     "output_type": "stream",
     "text": [
      "2025-03-21 11:21:28.444782\n",
      "2025-03-21 14:23:52.949925\n"
     ]
    }
   ],
   "source": [
    "import os\n",
    "import glob\n",
    "import xarray as xr\n",
    "\n",
    "# 定义输入和输出目录\n",
    "input_dir = \"/N/project/Zli_lab/gongg/stage4_data/stage4_nc\"\n",
    "output_dir = \"/N/project/Zli_lab/gongg/stage4_data/spatial_split\"\n",
    "os.makedirs(output_dir, exist_ok=True)\n",
    "\n",
    "# 获取所有 .nc 文件（按字母顺序排序）\n",
    "grib_files = sorted(glob.glob(os.path.join(input_dir, \"*.nc\")))\n",
    "\n",
    "print(datetime.datetime.now())\n",
    "# 设置空间切分参数：10行 × 3列\n",
    "num_rows = 10\n",
    "num_cols = 3\n",
    "\n",
    "# 遍历前5000个文件\n",
    "for file in grib_files[0:13000]:\n",
    "    ds = xr.open_dataset(file)\n",
    "    \n",
    "    # 从文件名中提取时间字符串（去除扩展名），例如 \"2002050100\"\n",
    "    base_name = os.path.basename(file)\n",
    "    time_str = os.path.splitext(base_name)[0]\n",
    "    \n",
    "    # 获取空间维度大小（使用 ds.sizes 避免 FutureWarning）\n",
    "    ny = ds.sizes[\"y\"]\n",
    "    nx = ds.sizes[\"x\"]\n",
    "    \n",
    "    # 计算每个块的大小（整除后，最后一块包含剩余部分）\n",
    "    chunk_y = ny // num_rows\n",
    "    chunk_x = nx // num_cols\n",
    "    \n",
    "    # 按10行×3列切分\n",
    "    for i in range(num_rows):\n",
    "        y_start = i * chunk_y\n",
    "        y_end = ny if i == num_rows - 1 else (i + 1) * chunk_y\n",
    "        for j in range(num_cols):\n",
    "            x_start = j * chunk_x\n",
    "            x_end = nx if j == num_cols - 1 else (j + 1) * chunk_x\n",
    "            \n",
    "            # 提取子区域\n",
    "            sub_ds = ds.isel(y=slice(y_start, y_end), x=slice(x_start, x_end))\n",
    "            \n",
    "            # 生成输出文件名，例如：sub_0_0_2002050100.nc\n",
    "            out_filename = f\"sub_{i}_{j}_{time_str}.nc\"\n",
    "            out_path = os.path.join(output_dir, out_filename)\n",
    "            \n",
    "            # 保存子区域为 NetCDF 文件\n",
    "            sub_ds.to_netcdf(out_path)\n",
    "    \n",
    "    ds.close()\n",
    "print(datetime.datetime.now())"
   ]
  },
  {
   "cell_type": "code",
   "execution_count": null,
   "id": "4ea2a46c-2868-44fa-ba8e-0236ae54efb8",
   "metadata": {},
   "outputs": [],
   "source": []
  },
  {
   "cell_type": "code",
   "execution_count": null,
   "id": "b4d075f4-dda3-4d07-a6b7-a64c04272fa7",
   "metadata": {},
   "outputs": [],
   "source": []
  },
  {
   "cell_type": "markdown",
   "id": "61a3fa01-1e0d-4192-86ef-f75742a89af6",
   "metadata": {},
   "source": [
    "#### Change 'time' as a coor "
   ]
  },
  {
   "cell_type": "code",
   "execution_count": 3,
   "id": "f4f02c9f-b3d5-431f-8838-7124768bc00d",
   "metadata": {},
   "outputs": [
    {
     "name": "stdout",
     "output_type": "stream",
     "text": [
      "2025-03-21 17:21:24.914188\n",
      "2025-03-21 18:09:40.413758\n"
     ]
    }
   ],
   "source": [
    "input_dir = '/N/project/Zli_lab/gongg/stage4_data/stage4_nc/'\n",
    "grib_files = sorted(glob.glob(os.path.join(input_dir,'*.nc')))\n",
    "\n",
    "import os\n",
    "import xarray as xr\n",
    "print(datetime.datetime.now())\n",
    "output_dir = \"/N/project/Zli_lab/gongg/stage4_data/stage4_nc_re\"\n",
    "os.makedirs(output_dir, exist_ok=True)\n",
    "\n",
    "for file_path in grib_files[:10000]:\n",
    "\n",
    "    ds = xr.open_dataset(file_path)\n",
    "    \n",
    "    if \"time\" in ds.coords and \"time\" not in ds.dims:\n",
    "       \n",
    "        time_value = ds[\"time\"].values \n",
    "\n",
    "        ds = ds.expand_dims(\"time\")\n",
    " \n",
    "        ds[\"time\"] = [time_value]\n",
    "\n",
    "    base_name = os.path.basename(file_path) \n",
    "    out_path = os.path.join(output_dir, base_name)\n",
    "    \n",
    "    # 保存到新的文件\n",
    "    ds.to_netcdf(out_path)\n",
    "    \n",
    "    # 关闭数据集\n",
    "    ds.close()\n",
    "print(datetime.datetime.now())"
   ]
  },
  {
   "cell_type": "markdown",
   "id": "c6514e2a-8632-4bb7-9b12-aa57beb3cdfb",
   "metadata": {},
   "source": [
    "### step Change 'time' as a coor¶"
   ]
  },
  {
   "cell_type": "code",
   "execution_count": 18,
   "id": "5973ba48-6420-4fb5-bece-51f02964c0f9",
   "metadata": {},
   "outputs": [
    {
     "name": "stdout",
     "output_type": "stream",
     "text": [
      "2025-03-24 23:16:08.210388\n",
      "2025-03-24 23:58:00.521152\n"
     ]
    }
   ],
   "source": [
    "input_dir = '/N/project/Zli_lab/gongg/stage4_data/stage4_nc/'\n",
    "grib_files = sorted(glob.glob(os.path.join(input_dir,'????09????.nc')))\n",
    "\n",
    "print(datetime.datetime.now())\n",
    "output_dir = \"/N/project/Zli_lab/gongg/stage4_data/stage4_nc_re\"\n",
    "os.makedirs(output_dir, exist_ok=True)\n",
    "\n",
    "for file_path in grib_files[:5000]:\n",
    "\n",
    "    ds = xr.open_dataset(file_path)\n",
    "    \n",
    "    if \"time\" in ds.coords and \"time\" not in ds.dims:\n",
    "       \n",
    "        time_value = ds[\"time\"].values \n",
    "\n",
    "        ds = ds.expand_dims(\"time\")\n",
    " \n",
    "        ds[\"time\"] = [time_value]\n",
    "\n",
    "    base_name = os.path.basename(file_path) \n",
    "    out_path = os.path.join(output_dir, base_name)\n",
    "    \n",
    "    # 保存到新的文件\n",
    "    ds.to_netcdf(out_path)\n",
    "    \n",
    "    # 关闭数据集\n",
    "    ds.close()\n",
    "print(datetime.datetime.now())"
   ]
  },
  {
   "cell_type": "code",
   "execution_count": 19,
   "id": "de85a9ee-adf5-4d45-be63-55544df83c4e",
   "metadata": {},
   "outputs": [
    {
     "name": "stdout",
     "output_type": "stream",
     "text": [
      "2025-03-24 23:58:00.527168\n",
      "2025-03-25 00:24:14.755578\n"
     ]
    }
   ],
   "source": [
    "print(datetime.datetime.now())\n",
    "output_dir = \"/N/project/Zli_lab/gongg/stage4_data/stage4_nc_re\"\n",
    "os.makedirs(output_dir, exist_ok=True)\n",
    "\n",
    "for file_path in grib_files[14000:]:\n",
    "\n",
    "    ds = xr.open_dataset(file_path)\n",
    "    \n",
    "    if \"time\" in ds.coords and \"time\" not in ds.dims:\n",
    "       \n",
    "        time_value = ds[\"time\"].values \n",
    "\n",
    "        ds = ds.expand_dims(\"time\")\n",
    " \n",
    "        ds[\"time\"] = [time_value]\n",
    "\n",
    "    base_name = os.path.basename(file_path) \n",
    "    out_path = os.path.join(output_dir, base_name)\n",
    "    \n",
    "    # 保存到新的文件\n",
    "    ds.to_netcdf(out_path)\n",
    "    \n",
    "    # 关闭数据集\n",
    "    ds.close()\n",
    "print(datetime.datetime.now())"
   ]
  },
  {
   "cell_type": "code",
   "execution_count": null,
   "id": "42551336-9242-4f2b-89b5-fe87b8a2c714",
   "metadata": {},
   "outputs": [],
   "source": []
  }
 ],
 "metadata": {
  "kernelspec": {
   "display_name": "Python 3 (ipykernel)",
   "language": "python",
   "name": "python3"
  },
  "language_info": {
   "codemirror_mode": {
    "name": "ipython",
    "version": 3
   },
   "file_extension": ".py",
   "mimetype": "text/x-python",
   "name": "python",
   "nbconvert_exporter": "python",
   "pygments_lexer": "ipython3",
   "version": "3.10.16"
  }
 },
 "nbformat": 4,
 "nbformat_minor": 5
}
