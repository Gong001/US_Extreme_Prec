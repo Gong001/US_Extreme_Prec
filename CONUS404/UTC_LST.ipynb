{
 "cells": [
  {
   "cell_type": "code",
   "execution_count": 4,
   "id": "ba98fcc6-1a20-4377-be11-8be7e57375bd",
   "metadata": {},
   "outputs": [],
   "source": [
    "import glob\n",
    "import xarray as xr\n",
    "import numpy as np\n",
    "from datetime import datetime\n",
    "import re\n",
    "from collections import defaultdict\n",
    "import os\n",
    "# ---------------------------\n",
    "# 1. 利用 glob 获取所有目标文件并排序\n",
    "# ---------------------------\n",
    "patterns = ['/N/project/Zli_lab/gongg/CONUS404_data/regrid_cons/*',]\n",
    "\n",
    "all_files = []\n",
    "for pattern in patterns:\n",
    "    all_files.extend(glob.glob(pattern))\n",
    "all_files.sort()"
   ]
  },
  {
   "cell_type": "code",
   "execution_count": 6,
   "id": "e196976e-a176-4a8d-9997-6d368c428163",
   "metadata": {},
   "outputs": [
    {
     "data": {
      "text/plain": [
       "['/N/project/Zli_lab/gongg/CONUS404_data/regrid_cons/19800820.nc',\n",
       " '/N/project/Zli_lab/gongg/CONUS404_data/regrid_cons/19800821.nc',\n",
       " '/N/project/Zli_lab/gongg/CONUS404_data/regrid_cons/19800822.nc',\n",
       " '/N/project/Zli_lab/gongg/CONUS404_data/regrid_cons/19800823.nc',\n",
       " '/N/project/Zli_lab/gongg/CONUS404_data/regrid_cons/19800824.nc',\n",
       " '/N/project/Zli_lab/gongg/CONUS404_data/regrid_cons/19800825.nc',\n",
       " '/N/project/Zli_lab/gongg/CONUS404_data/regrid_cons/19800826.nc',\n",
       " '/N/project/Zli_lab/gongg/CONUS404_data/regrid_cons/19800827.nc',\n",
       " '/N/project/Zli_lab/gongg/CONUS404_data/regrid_cons/19800828.nc',\n",
       " '/N/project/Zli_lab/gongg/CONUS404_data/regrid_cons/19800829.nc',\n",
       " '/N/project/Zli_lab/gongg/CONUS404_data/regrid_cons/19800830.nc',\n",
       " '/N/project/Zli_lab/gongg/CONUS404_data/regrid_cons/19800831.nc',\n",
       " '/N/project/Zli_lab/gongg/CONUS404_data/regrid_cons/19800901.nc',\n",
       " '/N/project/Zli_lab/gongg/CONUS404_data/regrid_cons/19800902.nc',\n",
       " '/N/project/Zli_lab/gongg/CONUS404_data/regrid_cons/19800903.nc',\n",
       " '/N/project/Zli_lab/gongg/CONUS404_data/regrid_cons/19800904.nc']"
      ]
     },
     "execution_count": 6,
     "metadata": {},
     "output_type": "execute_result"
    }
   ],
   "source": [
    "all_files[80:96]"
   ]
  },
  {
   "cell_type": "code",
   "execution_count": 11,
   "id": "a6457115-0314-4c31-91f9-b6a0df7a8a20",
   "metadata": {},
   "outputs": [],
   "source": [
    "month_groups = defaultdict(list)\n",
    "pattern = re.compile(r\".*/(\\d{8})\\.nc$\")  # 用于从文件路径中提取形如 20020601 的日期\n",
    "\n",
    "for fpath in all_files:\n",
    "    match = pattern.match(fpath)\n",
    "    if match:\n",
    "        date_str = match.group(1)  # '20020601'\n",
    "        year = date_str[:4]        # '2002'\n",
    "        month = date_str[4:6]      # '06'\n",
    "        # day = date_str[6:]       # '01'\n",
    "        month_groups[(year, month)].append(fpath)\n",
    "\n",
    "# 3. 打开参考数据 ds_ref，用来做空间掩膜\n",
    "ds_ref = xr.open_dataset(\"/N/project/Zli_lab/gongg/regrid/ref_.1deg.nc\")\n",
    "\n",
    "# 定义经度区间及对应的 UTC 偏移量\n",
    "lon_ranges = [(-np.inf, -112.5), (-112.5, -97.5), (-97.5, -82.5), (-82.5, np.inf)]\n",
    "utc_offsets = [-8, -7, -6, -5]\n",
    "\n",
    "# 设定输出目录\n",
    "output_dir = \"/N/project/Zli_lab/gongg/CONUS404_data/LST0.1\"\n",
    "os.makedirs(output_dir, exist_ok=True) "
   ]
  },
  {
   "cell_type": "code",
   "execution_count": 12,
   "id": "9496710f-07bf-4b18-b23d-2ff6de5d3dbd",
   "metadata": {},
   "outputs": [
    {
     "name": "stdout",
     "output_type": "stream",
     "text": [
      "2025-03-29 00:20:56.276884\n",
      "2025-03-29 00:23:07.133153\n",
      "2025-03-29 00:25:19.283529\n",
      "2025-03-29 00:27:44.928937\n",
      "2025-03-29 00:29:49.642304\n",
      "2025-03-29 00:31:56.922817\n"
     ]
    }
   ],
   "source": [
    "global_counter = 0\n",
    "\n",
    "for (year, month), file_list in sorted(month_groups.items()):\n",
    "    ds_CONUS = xr.open_mfdataset(file_list, combine='by_coords')\n",
    "    mask_nan = ds_ref[\"tp\"].isel(time=0).isnull()\n",
    "    ds_CONUS = ds_CONUS.where(~mask_nan)\n",
    "    for (lon_min, lon_max), offset in zip(lon_ranges, utc_offsets):\n",
    "        mask = (ds_CONUS.lon >= lon_min) & (ds_CONUS.lon < lon_max)\n",
    "        ds_lon_subset = ds_CONUS.where(mask, drop=True)\n",
    "        if ds_lon_subset.lon.size > 0 and ds_lon_subset.lat.size > 0:\n",
    "            original_times = ds_lon_subset.time\n",
    "            adjusted_times = original_times + np.timedelta64(offset, 'h')\n",
    "            ds_lon_subset = ds_lon_subset.assign_coords(time=adjusted_times)\n",
    "            output_filename = f\"{year}{month}_U{offset:+d}.nc\"\n",
    "            output_path = os.path.join(output_dir, output_filename)\n",
    "            ds_lon_subset.to_netcdf(output_path)\n",
    "            global_counter += 1\n",
    "        if global_counter % 100 == 0:\n",
    "            print(datetime.now())"
   ]
  },
  {
   "cell_type": "code",
   "execution_count": null,
   "id": "db2a2a68-88be-473d-83d1-e49907095647",
   "metadata": {},
   "outputs": [],
   "source": []
  },
  {
   "cell_type": "code",
   "execution_count": null,
   "id": "588f868d-900a-4713-ba00-1a478865d416",
   "metadata": {},
   "outputs": [],
   "source": []
  },
  {
   "cell_type": "code",
   "execution_count": 20,
   "id": "4e5a2a94-98df-4ad2-b379-b8d5ef7e4d2e",
   "metadata": {},
   "outputs": [
    {
     "name": "stdout",
     "output_type": "stream",
     "text": [
      "2025-03-29 00:43:00.397297\n",
      "2025-03-29 00:43:11.562587\n",
      "2025-03-29 00:43:21.935539\n",
      "2025-03-29 00:43:32.668595\n",
      "2025-03-29 00:43:45.059444\n",
      "2025-03-29 00:43:57.333292\n",
      "2025-03-29 00:44:08.333224\n",
      "2025-03-29 00:44:19.799225\n",
      "2025-03-29 00:44:30.529520\n",
      "2025-03-29 00:44:42.087037\n",
      "2025-03-29 00:44:53.127890\n",
      "2025-03-29 00:45:05.131532\n",
      "2025-03-29 00:45:16.699286\n",
      "2025-03-29 00:45:27.616329\n",
      "2025-03-29 00:45:38.311645\n",
      "2025-03-29 00:45:49.950216\n",
      "2025-03-29 00:46:00.369426\n"
     ]
    }
   ],
   "source": [
    "# 输入与输出目录\n",
    "input_dir = \"/N/project/Zli_lab/gongg/CONUS404_data/LST0.1\"\n",
    "output_dir = \"/N/project/Zli_lab/gongg/CONUS404_data/JJA_LST0.1\"\n",
    "\n",
    "# 获取输入目录下所有 .nc 文件\n",
    "all_files = glob.glob(os.path.join(input_dir, \"*.nc\"))\n",
    "\n",
    "# 根据文件名按 (year, utc_offset) 分组\n",
    "groups = {}\n",
    "for file in all_files:\n",
    "    basename = os.path.basename(file)  # 如 \"200506_U-8.nc\"\n",
    "    name, ext = os.path.splitext(basename)  # name: \"200506_U-8\"\n",
    "    # year 为前4位\n",
    "    year = name[:4]\n",
    "    # utc 部分：通过下划线分隔，第二部分如 \"U-8\"\n",
    "    parts = name.split('_')\n",
    "    if len(parts) < 2:\n",
    "        continue\n",
    "    utc_str = parts[1]  # e.g., \"U-8\"\n",
    "    # 去掉 'U' 后转成 int（这里 -8 表示 UTC-8）\n",
    "    offset = int(utc_str.replace('U', ''))\n",
    "    key = (year, offset)\n",
    "    groups.setdefault(key, []).append(file)\n",
    "\n",
    "\n",
    "# 遍历每个分组，读取组合数据，筛选6、7、8月，并保存到指定目录\n",
    "counter = 0\n",
    "for (year, offset), files in groups.items():\n",
    "    ds = xr.open_mfdataset(files, combine='by_coords')\n",
    "    ds_jja = ds.where(ds.time.dt.month.isin([6, 7, 8]), drop=True)\n",
    "\n",
    "    ds_jja = ds_jja.rename({\"PREC_ACC_NC\": \"tp\"})\n",
    "    \n",
    "    output_filename = f\"{year}_U_{abs(offset)}.nc\"\n",
    "    output_path = os.path.join(output_dir, output_filename)\n",
    "    ds_jja.to_netcdf(output_path)\n",
    "    \n",
    "    counter += 1\n",
    "    if counter % 10 == 0:\n",
    "        print(datetime.now())"
   ]
  },
  {
   "cell_type": "code",
   "execution_count": null,
   "id": "fa0e74ed-8119-4da9-9b26-87c566f8bae5",
   "metadata": {},
   "outputs": [],
   "source": []
  },
  {
   "cell_type": "code",
   "execution_count": null,
   "id": "2a13c3f0-95ef-4a03-bab5-82317b3a8e17",
   "metadata": {},
   "outputs": [],
   "source": []
  },
  {
   "cell_type": "code",
   "execution_count": 21,
   "id": "80b1c702-538c-4e12-96e9-705db0a57052",
   "metadata": {},
   "outputs": [],
   "source": [
    "dss = xr.open_mfdataset('/N/project/Zli_lab/gongg/CONUS404_data/JJA_LST0.1/2022*')"
   ]
  },
  {
   "cell_type": "code",
   "execution_count": null,
   "id": "62f18b07-277e-4f4a-b7ce-e5bc828bcbd6",
   "metadata": {},
   "outputs": [],
   "source": []
  }
 ],
 "metadata": {
  "kernelspec": {
   "display_name": "Python (gongg)",
   "language": "python",
   "name": "gongg"
  },
  "language_info": {
   "codemirror_mode": {
    "name": "ipython",
    "version": 3
   },
   "file_extension": ".py",
   "mimetype": "text/x-python",
   "name": "python",
   "nbconvert_exporter": "python",
   "pygments_lexer": "ipython3",
   "version": "3.10.16"
  }
 },
 "nbformat": 4,
 "nbformat_minor": 5
}
