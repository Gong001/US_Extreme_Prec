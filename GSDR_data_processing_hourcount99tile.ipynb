{
 "cells": [
  {
   "cell_type": "code",
   "execution_count": 18,
   "id": "64a2904a-b520-4192-a38f-751e8dd6a04b",
   "metadata": {
    "tags": []
   },
   "outputs": [],
   "source": [
    "import sys\n",
    "\n",
    "import warnings\n",
    "warnings.filterwarnings('ignore')\n",
    "warnings.simplefilter(action='ignore', category=FutureWarning)\n",
    "\n",
    "### lvl 2 setups (systerm)\n",
    "\n",
    "import os\n",
    "import numpy as np\n",
    "import pandas as pd\n",
    "import xarray as xr"
   ]
  },
  {
   "cell_type": "code",
   "execution_count": 19,
   "id": "9cd57e50-5498-412f-8dc6-f8fadcebd37f",
   "metadata": {
    "tags": []
   },
   "outputs": [],
   "source": [
    "df = pd.read_csv('sumup_test.csv')\n",
    "df['datetime'] = pd.to_datetime(df['datetime'], format='%Y%m%d%H')\n",
    "df_season = df[df['datetime'].dt.month.isin([6, 7, 8])]\n",
    "df_season.iloc[:, 1:] = df_season.iloc[:, 1:].applymap(lambda x: x if x >= 0.1 else np.nan)\n",
    "\n",
    "quantiles_99 = df_season.iloc[:,1:].quantile(0.99)\n",
    "df_99tile = df_season.iloc[:,1:].apply(lambda x: x.where(x > quantiles_99[x.name]))\n",
    "df_99tile.insert(0, 'datetime', df_season.iloc[:, 0])"
   ]
  },
  {
   "cell_type": "code",
   "execution_count": 20,
   "id": "d4042924-d3e7-44c6-a6ad-5d8ac7f16b3c",
   "metadata": {
    "tags": []
   },
   "outputs": [],
   "source": [
    "def calculate_yearly_hourly_rainfall_frequency(df_season):\n",
    "    stations = df_season.columns[1:]  # Exclude the 'datetime' column\n",
    "    yearly_hourly_rainfall = pd.DataFrame({'year': np.repeat(range(1900, 2014), 24), 'hour': list(range(24)) * 114})\n",
    "    \n",
    "    for station in stations:\n",
    "        station_data = df_season[['datetime', station]].dropna(subset=[station])\n",
    "        station_data['Year'] = pd.to_datetime(station_data['datetime']).dt.year\n",
    "        station_data['Hour'] = pd.to_datetime(station_data['datetime']).dt.hour\n",
    "        \n",
    "        # Count rainfall occurrences by year and hour\n",
    "        rainfall_count = station_data.groupby(['Year', 'Hour'])[station].count().reset_index()\n",
    "        rainfall_pivot = rainfall_count.pivot(index='Year', columns='Hour', values=station).fillna(0)\n",
    "        \n",
    "        # Flatten the pivoted data and merge it into the result DataFrame\n",
    "        rainfall_pivot_flattened = rainfall_pivot.unstack().reset_index(name=station)\n",
    "        yearly_hourly_rainfall = yearly_hourly_rainfall.merge(rainfall_pivot_flattened, how='left', \n",
    "                                                             left_on=['year', 'hour'], right_on=['Year', 'Hour'])\n",
    "        yearly_hourly_rainfall[station] = yearly_hourly_rainfall[station].fillna(0).astype(int)\n",
    "        yearly_hourly_rainfall.drop(columns=['Year', 'Hour'], inplace=True)\n",
    "\n",
    "    return yearly_hourly_rainfall\n",
    "rainfall_frequency = calculate_yearly_hourly_rainfall_frequency(df_99tile)\n",
    "rainfall_frequency.to_csv('prec99_hour_count_test.csv')"
   ]
  },
  {
   "cell_type": "code",
   "execution_count": null,
   "id": "10a22c00-d04e-4227-ac93-aab172cf50c1",
   "metadata": {},
   "outputs": [],
   "source": []
  }
 ],
 "metadata": {
  "kernelspec": {
   "display_name": "Python 3 (ipykernel)",
   "language": "python",
   "name": "python3"
  },
  "language_info": {
   "codemirror_mode": {
    "name": "ipython",
    "version": 3
   },
   "file_extension": ".py",
   "mimetype": "text/x-python",
   "name": "python",
   "nbconvert_exporter": "python",
   "pygments_lexer": "ipython3",
   "version": "3.11.4"
  }
 },
 "nbformat": 4,
 "nbformat_minor": 5
}
