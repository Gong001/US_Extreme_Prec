{
 "cells": [
  {
   "cell_type": "code",
   "execution_count": 5,
   "id": "63ee76b6-51df-494c-90e2-a92b2941e6e8",
   "metadata": {
    "tags": []
   },
   "outputs": [
    {
     "name": "stdout",
     "output_type": "stream",
     "text": [
      "The autoreload extension is already loaded. To reload it, use:\n",
      "  %reload_ext autoreload\n"
     ]
    }
   ],
   "source": [
    "### automatically refresh the buffer\n",
    "\n",
    "%load_ext autoreload\n",
    "%autoreload 2\n",
    "\n",
    "### solve the auto-complete issue\n",
    "\n",
    "%config Completer.use_jedi = False\n",
    "\n",
    "%matplotlib inline\n",
    "\n",
    "import warnings\n",
    "warnings.filterwarnings('ignore')\n",
    "warnings.simplefilter(action='ignore', category=FutureWarning)\n",
    "\n",
    "### lvl 2 setups (systerm)\n",
    "\n",
    "import os\n",
    "import numpy as np\n",
    "import pandas as pd\n",
    "import xarray as xr\n",
    "\n",
    "import matplotlib as mpl\n",
    "import cartopy.crs as ccrs\n",
    "import cartopy.feature as cfeature\n",
    "\n",
    "import cartopy.feature as cfeature\n",
    "from cartopy.mpl.ticker import LongitudeFormatter, LatitudeFormatter\n",
    "import warnings\n",
    "warnings.filterwarnings('ignore')\n",
    "from pylab import *\n",
    "from matplotlib.colors import ListedColormap,LinearSegmentedColormap\n",
    "from mpl_toolkits.axes_grid1.inset_locator import inset_axes\n",
    "from matplotlib.patches import Wedge, Circle\n",
    "import geopandas as gpd\n",
    "from shapely.geometry import Point\n",
    "from datetime import datetime\n",
    "import glob"
   ]
  },
  {
   "cell_type": "code",
   "execution_count": 20,
   "id": "3223e735-f5f6-4d58-8c68-61a0a479d973",
   "metadata": {
    "tags": []
   },
   "outputs": [],
   "source": [
    "def generate_the_99_quantile(prec_filtered,latt,lonn):\n",
    "\n",
    "    arr_the = np.nanquantile(prec_filtered, 0.99, axis=0)\n",
    "    ds_the = xr.Dataset({'p': ([ 'lat', 'lon'], arr_the)},\n",
    "                    coords={'lon': (['lon'], lonn),\n",
    "                            'lat': (['lat'], latt),})\n",
    "    return ds_the\n"
   ]
  },
  {
   "cell_type": "code",
   "execution_count": 22,
   "id": "cdee490c-385d-4fbe-900c-6db8581808a7",
   "metadata": {
    "tags": []
   },
   "outputs": [],
   "source": [
    "def create_max_datasets(arr_ep, latt, lonn):\n",
    "\n",
    "    arr_freq = arr_ep.reshape(43, 90, 24, arr_ep.shape[1], arr_ep.shape[2])\n",
    "    arr_maxp = np.nanmax(arr_freq, axis=(1, 2))\n",
    "    arr_maxh = np.nanmax(arr_freq, axis=1)\n",
    "    arr_maxh = np.nan_to_num(arr_maxh, nan=-1)\n",
    "    arr_maxh_indices = np.nanargmax(arr_maxh, axis=1)\n",
    "    arr_maxh_indices = arr_maxh_indices.astype(float)\n",
    "    nan_mask = np.isnan(arr_maxp)\n",
    "    arr_maxh_indices[nan_mask] = np.nan\n",
    "    \n",
    "    ds_maxp = xr.Dataset(\n",
    "        {'p': (['time', 'lat', 'lon'], arr_maxp)},\n",
    "        coords={\n",
    "            'lon': (['lon'], lonn),\n",
    "            'lat': (['lat'], latt),\n",
    "            'time': ('time', np.arange(1979, 2022))\n",
    "        }\n",
    "    )\n",
    "\n",
    "    ds_maxh = xr.Dataset(\n",
    "        {'h': (['time', 'lat', 'lon'], arr_maxh_indices)},\n",
    "        coords={\n",
    "            'time': (['time'], np.arange(1979, 2022)),\n",
    "            'lat': (['lat'], latt),\n",
    "            'lon': (['lon'], lonn)\n",
    "        }\n",
    "    )\n",
    "    \n",
    "    \n",
    "    arr_h = np.nanmean(~np.isnan(arr_freq), axis=1)*92\n",
    "\n",
    "    ds_hour_count = xr.Dataset(\n",
    "        {'c': (['year', 'hour', 'lat', 'lon'], arr_h)},\n",
    "        coords={\n",
    "            'year': (['year'], np.arange(1979, 2022)),\n",
    "            'hour': (['hour'], np.arange(0, 24)),\n",
    "            'lat': (['lat'], latt),\n",
    "            'lon': (['lon'], lonn)\n",
    "        }\n",
    "    )\n",
    "\n",
    "    return ds_maxp, ds_maxh, ds_hour_count"
   ]
  },
  {
   "cell_type": "code",
   "execution_count": 23,
   "id": "d37b610f-9f3d-4089-a16b-ab5dfd604a1c",
   "metadata": {
    "tags": []
   },
   "outputs": [],
   "source": [
    "def create_season_mean_dataset(arr_ep, latt, lonn):\n",
    "\n",
    "    arr_freq = arr_ep.reshape(43, 90, 24, arr_ep.shape[1], arr_ep.shape[2])\n",
    "    arr_season = np.nanmean(arr_freq, axis=1)\n",
    "    \n",
    "    ds_season_mean = xr.Dataset(\n",
    "        {'p': (['year', 'hour', 'lat', 'lon'], arr_season)},\n",
    "        coords={\n",
    "            'year': (['year'], np.arange(1979, 2022)),\n",
    "            'hour': (['hour'], np.arange(0, 24)),\n",
    "            'lat': (['lat'], latt),\n",
    "            'lon': (['lon'], lonn)\n",
    "        }\n",
    "    )\n",
    "\n",
    "    return ds_season_mean"
   ]
  },
  {
   "cell_type": "code",
   "execution_count": 24,
   "id": "bdfc8ff5-7c2f-4224-a87b-0ddf3628c164",
   "metadata": {
    "tags": []
   },
   "outputs": [
    {
     "name": "stdout",
     "output_type": "stream",
     "text": [
      "2024-10-14 01:30:41\n",
      "2024-10-14 01:32:57\n",
      "2024-10-14 01:39:31\n",
      "2024-10-14 01:45:14\n",
      "2024-10-14 01:51:17\n",
      "2024-10-14 01:57:07\n",
      "2024-10-14 02:02:49\n",
      "2024-10-14 02:08:16\n",
      "2024-10-14 02:13:52\n"
     ]
    }
   ],
   "source": [
    "base_path = '/N/project/Zli_lab/gongg/CONUS404_data/LST/UTC/'\n",
    "file_pattern = 'PREC_ACC_NC.wrf2d_d01_????-??-??.nc'\n",
    "\n",
    "folder_names = [\n",
    "  \n",
    "    'U-80', 'U-81', 'U-82', 'U-83', 'U-84', 'U-85', 'U-86', \n",
    "    'U-87', 'U-88'\n",
    "]\n",
    "\n",
    "\n",
    "for folder in folder_names:\n",
    "    print(time.strftime('%Y-%m-%d %H:%M:%S', time.localtime()))\n",
    "    full_path = os.path.join(base_path, folder, file_pattern)\n",
    "    all_files = glob.glob(full_path)\n",
    "    #####\n",
    "    summer_files = [f for f in all_files if '-12-' in f or '-01-' in f or '-02-' in f or '-03-' in f]\n",
    "    ds_summer = xr.open_mfdataset(summer_files)\n",
    "    ds_jja = ds_summer.sel(time=ds_summer['time'].dt.month.isin([12, 1, 2]))\n",
    "    mask = ds_jja.time.dt.month != 2 | (ds_jja.time.dt.day != 29)\n",
    "    ds_jja = ds_jja.where(mask, drop=True)\n",
    "    lonn = ds_jja.lon.values\n",
    "    latt = ds_jja.lat.values\n",
    "    prec = ds_jja.p.values\n",
    "    prec_filtered = np.where(prec >= 0.1, prec, np.nan)\n",
    "    arr_the = np.nanpercentile(prec_filtered, 99, axis=0)\n",
    "    arr_ep = np.copy(prec_filtered)\n",
    "    arr_ep = np.where(prec_filtered >= arr_the, prec_filtered, np.nan)\n",
    "    ds_the = generate_the_99_quantile(arr_ep, latt, lonn)\n",
    "    ds_maxp, ds_maxh, ds_hour_count = create_max_datasets(arr_ep, latt, lonn)\n",
    "    ds_season_mean = create_season_mean_dataset(arr_ep, latt, lonn)\n",
    "    output_folder = '/N/project/Zli_lab/gongg/CONUS404_data/LST/DJF/'\n",
    "    ds_the.to_netcdf(output_folder+'prec_the_'+folder+'.nc')\n",
    "    ds_maxp.to_netcdf(output_folder+'prec_maxp_'+folder+'.nc')\n",
    "    ds_maxh.to_netcdf(output_folder+'prec_maxh_'+folder+'.nc')\n",
    "    ds_hour_count.to_netcdf(output_folder+'hour_count_'+folder+'.nc')\n",
    "    ds_season_mean.to_netcdf(output_folder+'season_mean_'+folder+'.nc')"
   ]
  },
  {
   "cell_type": "code",
   "execution_count": 29,
   "id": "0228b8b4-859f-4281-bc44-206bb90e1dea",
   "metadata": {},
   "outputs": [
    {
     "name": "stdout",
     "output_type": "stream",
     "text": [
      "2024-10-14 07:26:32\n",
      "2024-10-14 07:32:28\n",
      "2024-10-14 07:38:19\n",
      "2024-10-14 07:43:53\n",
      "2024-10-14 07:49:28\n",
      "2024-10-14 07:55:11\n",
      "2024-10-14 08:00:42\n",
      "2024-10-14 08:06:19\n",
      "2024-10-14 08:11:50\n",
      "2024-10-14 08:17:15\n"
     ]
    }
   ],
   "source": [
    "base_path = '/N/project/Zli_lab/gongg/CONUS404_data/LST/UTC/'\n",
    "file_pattern = 'PREC_ACC_NC.wrf2d_d01_????-??-??.nc'\n",
    "\n",
    "folder_names = [\n",
    " 'U-68',\n",
    "    'U-70', 'U-71', 'U-72', 'U-73', 'U-74', 'U-75', 'U-76', 'U-77', 'U-78'\n",
    "]\n",
    "\n",
    "\n",
    "for folder in folder_names:\n",
    "    print(time.strftime('%Y-%m-%d %H:%M:%S', time.localtime()))\n",
    "    full_path = os.path.join(base_path, folder, file_pattern)\n",
    "    all_files = glob.glob(full_path)\n",
    "    #####\n",
    "    summer_files = [f for f in all_files if '-12-' in f or '-01-' in f or '-02-' in f or '-03-' in f]\n",
    "    ds_summer = xr.open_mfdataset(summer_files)\n",
    "    ds_jja = ds_summer.sel(time=ds_summer['time'].dt.month.isin([12, 1, 2]))\n",
    "    mask = ds_jja.time.dt.month != 2 | (ds_jja.time.dt.day != 29)\n",
    "    ds_jja = ds_jja.where(mask, drop=True)\n",
    "    lonn = ds_jja.lon.values\n",
    "    latt = ds_jja.lat.values\n",
    "    prec = ds_jja.p.values\n",
    "    prec_filtered = np.where(prec >= 0.1, prec, np.nan)\n",
    "    arr_the = np.nanpercentile(prec_filtered, 99, axis=0)\n",
    "    arr_ep = np.copy(prec_filtered)\n",
    "    arr_ep = np.where(prec_filtered >= arr_the, prec_filtered, np.nan)\n",
    "    ds_the = generate_the_99_quantile(arr_ep, latt, lonn)\n",
    "    ds_maxp, ds_maxh, ds_hour_count = create_max_datasets(arr_ep, latt, lonn)\n",
    "    ds_season_mean = create_season_mean_dataset(arr_ep, latt, lonn)\n",
    "    output_folder = '/N/project/Zli_lab/gongg/CONUS404_data/LST/DJF/'\n",
    "    ds_the.to_netcdf(output_folder+'prec_the_'+folder+'.nc')\n",
    "    ds_maxp.to_netcdf(output_folder+'prec_maxp_'+folder+'.nc')\n",
    "    ds_maxh.to_netcdf(output_folder+'prec_maxh_'+folder+'.nc')\n",
    "    ds_hour_count.to_netcdf(output_folder+'hour_count_'+folder+'.nc')\n",
    "    ds_season_mean.to_netcdf(output_folder+'season_mean_'+folder+'.nc')"
   ]
  },
  {
   "cell_type": "code",
   "execution_count": 27,
   "id": "8d57f5a7-3f5f-4733-af8c-e57e90815a64",
   "metadata": {},
   "outputs": [
    {
     "data": {
      "text/plain": [
       "[]"
      ]
     },
     "execution_count": 27,
     "metadata": {},
     "output_type": "execute_result"
    }
   ],
   "source": [
    "all_files"
   ]
  },
  {
   "cell_type": "code",
   "execution_count": null,
   "id": "cf1ac57a-a339-436c-95a0-64e47e1680c6",
   "metadata": {},
   "outputs": [],
   "source": []
  }
 ],
 "metadata": {
  "kernelspec": {
   "display_name": "Python 3 (ipykernel)",
   "language": "python",
   "name": "python3"
  },
  "language_info": {
   "codemirror_mode": {
    "name": "ipython",
    "version": 3
   },
   "file_extension": ".py",
   "mimetype": "text/x-python",
   "name": "python",
   "nbconvert_exporter": "python",
   "pygments_lexer": "ipython3",
   "version": "3.11.4"
  }
 },
 "nbformat": 4,
 "nbformat_minor": 5
}
