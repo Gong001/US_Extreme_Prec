{
 "cells": [
  {
   "cell_type": "code",
   "execution_count": 2,
   "id": "82630570-e9dd-4b89-a605-92d9b5e0678a",
   "metadata": {},
   "outputs": [],
   "source": [
    "import pygrib\n",
    "import xarray as xr\n",
    "import pandas as pd\n",
    "import numpy as np\n",
    "import matplotlib.pyplot as plt\n",
    "import glob\n",
    "import os\n",
    "import re\n",
    "import random\n",
    "from collections import defaultdict\n",
    "import datetime\n",
    "\n",
    "import warnings\n",
    "warnings.filterwarnings('ignore')"
   ]
  },
  {
   "cell_type": "code",
   "execution_count": 30,
   "id": "f6e060c1-d889-4e8c-9e87-f269bdfa1c78",
   "metadata": {},
   "outputs": [
    {
     "name": "stdout",
     "output_type": "stream",
     "text": [
      "2025-03-20 22:13:52.433825\n",
      "2025-03-20 23:56:50.442776\n"
     ]
    }
   ],
   "source": [
    "input_dir = \"/N/project/Zli_lab/Data/Observations/stage4_jja_processed\"\n",
    "grib_files = sorted(glob.glob(os.path.join(input_dir, \"ST4.*.01h\")))\n",
    "\n",
    "output_dir = \"/N/project/Zli_lab/gongg/stage4_data/stage4_nc\"\n",
    "\n",
    "print(datetime.datetime.now())\n",
    "for grb_file in grib_files[:20000]:\n",
    "    base_name = os.path.basename(grb_file)  \n",
    "  \n",
    "    time_str = base_name.split(\".\")[1]   \n",
    "    \n",
    "    time_dt = datetime.datetime.strptime(time_str, \"%Y%m%d%H\")\n",
    "\n",
    "\n",
    "    grbs = pygrib.open(grb_file)\n",
    "    \n",
    "    selected_grb = grbs.select(name=\"Total Precipitation\")[0]\n",
    "    \n",
    "    data, lat, lon = selected_grb.data()\n",
    "    grbs.close()\n",
    "\n",
    "    \n",
    "    array_2d = data.filled(np.nan)\n",
    "\n",
    "    \n",
    "    ds = xr.Dataset(\n",
    "        {\n",
    "            \"tp\": ([\"y\", \"x\"], array_2d)\n",
    "        },\n",
    "        coords={\n",
    "            \"lat\": ([\"y\", \"x\"], lat),\n",
    "            \"lon\": ([\"y\", \"x\"], lon),\n",
    "           \n",
    "            \"time\": time_dt\n",
    "        }\n",
    "    )\n",
    "\n",
    "    \n",
    "    nc_filename = os.path.join(output_dir, f\"{time_str}.nc\")\n",
    "    ds.to_netcdf(nc_filename)\n",
    "\n",
    "print(datetime.datetime.now())"
   ]
  },
  {
   "cell_type": "code",
   "execution_count": 34,
   "id": "b249b715-4689-4310-aa64-96985fa47800",
   "metadata": {},
   "outputs": [
    {
     "data": {
      "text/plain": [
       "68002"
      ]
     },
     "execution_count": 34,
     "metadata": {},
     "output_type": "execute_result"
    }
   ],
   "source": [
    "len(grib_files)"
   ]
  },
  {
   "cell_type": "code",
   "execution_count": 72,
   "id": "3f61edb5-0938-415a-9b54-e1fb1cab61d9",
   "metadata": {},
   "outputs": [],
   "source": [
    "input_dir = \"/N/project/Zli_lab/Data/Observations/stage4_jja_processed\"\n",
    "output_dir = \"/N/project/Zli_lab/gongg/stage4_data/stage4_nc\"\n",
    "\n",
    "\n",
    "grib_files = sorted(glob.glob(os.path.join(input_dir, \"ST4.*.01h\")))\n",
    "input_times = {os.path.basename(f).split(\".\")[1]: f for f in grib_files}\n",
    "\n",
    "\n",
    "nc_files = sorted(glob.glob(os.path.join(output_dir, \"*.nc\")))\n",
    "output_times = {os.path.splitext(os.path.basename(f))[0] for f in nc_files}\n",
    "\n",
    "\n",
    "missing_times = set(input_times.keys()) - output_times"
   ]
  },
  {
   "cell_type": "code",
   "execution_count": 73,
   "id": "975fbad5-6951-4cc2-a736-330c1e562dd4",
   "metadata": {},
   "outputs": [
    {
     "data": {
      "text/plain": [
       "18267"
      ]
     },
     "execution_count": 73,
     "metadata": {},
     "output_type": "execute_result"
    }
   ],
   "source": [
    "len(missing_times)"
   ]
  },
  {
   "cell_type": "code",
   "execution_count": 75,
   "id": "a6fed24f-98ca-4306-b8f0-a8669b300256",
   "metadata": {},
   "outputs": [],
   "source": [
    "sorted_missing = sorted(missing_times)\n",
    "\n",
    "\n",
    "for time_str in sorted_missing[:5000]:\n",
    "    grb_file = input_times[time_str]\n",
    "    try:\n",
    "        time_dt = datetime.datetime.strptime(time_str, \"%Y%m%d%H\")\n",
    "        grbs = pygrib.open(grb_file)\n",
    "        selected_grb = grbs[1]  # 注意：pygrib的索引从1开始\n",
    "        data, lat, lon = selected_grb.data()\n",
    "        grbs.close()\n",
    "\n",
    "        array_2d = data.filled(np.nan)\n",
    "\n",
    "        ds = xr.Dataset(\n",
    "            {\n",
    "                \"tp\": ([\"y\", \"x\"], array_2d)\n",
    "            },\n",
    "            coords={\n",
    "                \"lat\": ([\"y\", \"x\"], lat),\n",
    "                \"lon\": ([\"y\", \"x\"], lon),\n",
    "                \"time\": time_dt\n",
    "            }\n",
    "        )\n",
    "\n",
    "        nc_filename = os.path.join(output_dir, f\"{time_str}.nc\")\n",
    "        ds.to_netcdf(nc_filename)\n",
    "    except Exception:\n",
    "        pass"
   ]
  },
  {
   "cell_type": "code",
   "execution_count": null,
   "id": "e15e88df-d506-48a0-82e7-3aee04a65636",
   "metadata": {},
   "outputs": [],
   "source": []
  },
  {
   "cell_type": "code",
   "execution_count": null,
   "id": "2d584dd4-f6c1-4fa1-ae1f-9988d7f498fc",
   "metadata": {},
   "outputs": [],
   "source": []
  },
  {
   "cell_type": "markdown",
   "id": "96733c30-e9d4-4dc8-9c8a-454fea89fc8e",
   "metadata": {},
   "source": [
    "## sept"
   ]
  },
  {
   "cell_type": "code",
   "execution_count": 3,
   "id": "a1d158e0-f62a-4f1d-8d77-98e6ac85e643",
   "metadata": {},
   "outputs": [],
   "source": [
    "# 目录路径\n",
    "data_dir = \"/N/project/Zli_lab/Data/Observations/stage4_jja_processed\"\n",
    "\n",
    "# 为两种文件格式分别定义匹配模式：\n",
    "# 1) ST4.*09*.01h*\n",
    "# 2) st4_conus.*09*.01h*.grb2\n",
    "pattern_st4  = os.path.join(data_dir, \"ST4.????09????.01h\")\n",
    "pattern_conus = os.path.join(data_dir, \"st4_conus.????09????.01h.grb2\")\n",
    "\n",
    "# 分别获取匹配的文件，并合并、排序\n",
    "files_sep = glob.glob(pattern_st4) + glob.glob(pattern_conus)\n",
    "files_sep_sorted = sorted(files_sep)"
   ]
  },
  {
   "cell_type": "code",
   "execution_count": 5,
   "id": "964ed0f8-5c28-41cb-97d2-b69c7e38ba0b",
   "metadata": {},
   "outputs": [],
   "source": [
    "sorted_missing = files_sep_sorted\n",
    "output_dir = \"/N/project/Zli_lab/gongg/stage4_data/stage4_nc\"\n",
    "for file_path in sorted_missing[10000:]:\n",
    "    try:\n",
    "        # 从文件名中解析时间 (如果需要)\n",
    "        basename = os.path.basename(file_path)\n",
    "        date_part = basename.split('.')[1]  # 例如 \"2002090100\"\n",
    "        time_dt = datetime.datetime.strptime(date_part, \"%Y%m%d%H\")\n",
    "\n",
    "        # 直接用 file_path 打开 GRIB 文件\n",
    "        grbs = pygrib.open(file_path)\n",
    "        selected_grb = grbs[1]\n",
    "        data, lat, lon = selected_grb.data()\n",
    "        grbs.close()\n",
    "\n",
    "        array_2d = data.filled(np.nan)\n",
    "\n",
    "        ds = xr.Dataset(\n",
    "            {\n",
    "                \"tp\": ([\"y\", \"x\"], array_2d)\n",
    "            },\n",
    "            coords={\n",
    "                \"lat\": ([\"y\", \"x\"], lat),\n",
    "                \"lon\": ([\"y\", \"x\"], lon),\n",
    "                \"time\": time_dt\n",
    "            }\n",
    "        )\n",
    "\n",
    "        nc_filename = os.path.join(output_dir, f\"{date_part}.nc\")\n",
    "        ds.to_netcdf(nc_filename)\n",
    "    except Exception as e:\n",
    "        print(\"Error:\", e)\n",
    "        pass\n"
   ]
  },
  {
   "cell_type": "code",
   "execution_count": null,
   "id": "d4f36944-7981-4c03-b2ec-4df819e5db65",
   "metadata": {},
   "outputs": [],
   "source": []
  },
  {
   "cell_type": "code",
   "execution_count": null,
   "id": "3a34ffa7-e9b6-49c1-9fc5-1bde17a6b9a5",
   "metadata": {},
   "outputs": [],
   "source": []
  }
 ],
 "metadata": {
  "kernelspec": {
   "display_name": "Python 3 (ipykernel)",
   "language": "python",
   "name": "python3"
  },
  "language_info": {
   "codemirror_mode": {
    "name": "ipython",
    "version": 3
   },
   "file_extension": ".py",
   "mimetype": "text/x-python",
   "name": "python",
   "nbconvert_exporter": "python",
   "pygments_lexer": "ipython3",
   "version": "3.10.16"
  }
 },
 "nbformat": 4,
 "nbformat_minor": 5
}
