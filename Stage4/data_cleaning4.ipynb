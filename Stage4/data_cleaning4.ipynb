{
 "cells": [
  {
   "cell_type": "code",
   "execution_count": 1,
   "id": "91b579b8-d370-4f16-b597-e6dd90bcb5b3",
   "metadata": {},
   "outputs": [],
   "source": [
    "import pygrib\n",
    "import xarray as xr\n",
    "import pandas as pd\n",
    "import numpy as np\n",
    "import matplotlib.pyplot as plt\n",
    "import glob\n",
    "import os\n",
    "import re\n",
    "import random\n",
    "from collections import defaultdict\n",
    "import datetime"
   ]
  },
  {
   "cell_type": "code",
   "execution_count": 2,
   "id": "2161e54d-ae99-472d-96d6-bbce66986500",
   "metadata": {},
   "outputs": [
    {
     "name": "stdout",
     "output_type": "stream",
     "text": [
      "2025-03-20 22:15:27.971840\n",
      "2025-03-20 22:56:56.473764\n"
     ]
    }
   ],
   "source": [
    "input_dir = \"/N/project/Zli_lab/Data/Observations/stage4_jja_processed\"\n",
    "grib_files = sorted(glob.glob(os.path.join(input_dir, \"ST4.*.01h\")))\n",
    "\n",
    "output_dir = \"/N/project/Zli_lab/gongg/stage4_data/stage4_nc\"\n",
    "\n",
    "print(datetime.datetime.now())\n",
    "for grb_file in grib_files[60000:]:\n",
    "    base_name = os.path.basename(grb_file)  \n",
    "  \n",
    "    time_str = base_name.split(\".\")[1]   \n",
    "    \n",
    "    time_dt = datetime.datetime.strptime(time_str, \"%Y%m%d%H\")\n",
    "\n",
    "\n",
    "    grbs = pygrib.open(grb_file)\n",
    "    \n",
    "    selected_grb = grbs.select(name=\"Total Precipitation\")[0]\n",
    "    \n",
    "    data, lat, lon = selected_grb.data()\n",
    "    grbs.close()\n",
    "\n",
    "    \n",
    "    array_2d = data.filled(np.nan)\n",
    "\n",
    "    \n",
    "    ds = xr.Dataset(\n",
    "        {\n",
    "            \"tp\": ([\"y\", \"x\"], array_2d)\n",
    "        },\n",
    "        coords={\n",
    "            \"lat\": ([\"y\", \"x\"], lat),\n",
    "            \"lon\": ([\"y\", \"x\"], lon),\n",
    "           \n",
    "            \"time\": time_dt\n",
    "        }\n",
    "    )\n",
    "\n",
    "    \n",
    "    nc_filename = os.path.join(output_dir, f\"{time_str}.nc\")\n",
    "    ds.to_netcdf(nc_filename)\n",
    "\n",
    "print(datetime.datetime.now())"
   ]
  },
  {
   "cell_type": "code",
   "execution_count": 4,
   "id": "1cb1036b-3d2b-4e51-a723-8e5e7693ad71",
   "metadata": {},
   "outputs": [],
   "source": [
    "input_dir = \"/N/project/Zli_lab/Data/Observations/stage4_jja_processed\"\n",
    "output_dir = \"/N/project/Zli_lab/gongg/stage4_data/stage4_nc\"\n",
    "\n",
    "\n",
    "grib_files = sorted(glob.glob(os.path.join(input_dir, \"ST4.*.01h\")))\n",
    "input_times = {os.path.basename(f).split(\".\")[1]: f for f in grib_files}\n",
    "\n",
    "\n",
    "nc_files = sorted(glob.glob(os.path.join(output_dir, \"*.nc\")))\n",
    "output_times = {os.path.splitext(os.path.basename(f))[0] for f in nc_files}\n",
    "\n",
    "\n",
    "missing_times = set(input_times.keys()) - output_times"
   ]
  },
  {
   "cell_type": "code",
   "execution_count": 5,
   "id": "8c631f85-b3c4-46e1-a914-8bd5fb7d8b44",
   "metadata": {},
   "outputs": [],
   "source": [
    "sorted_missing = sorted(missing_times)\n",
    "\n",
    "\n",
    "for time_str in sorted_missing[15000:]:\n",
    "    grb_file = input_times[time_str]\n",
    "    try:\n",
    "        time_dt = datetime.datetime.strptime(time_str, \"%Y%m%d%H\")\n",
    "        grbs = pygrib.open(grb_file)\n",
    "        selected_grb = grbs[1]  # 注意：pygrib的索引从1开始\n",
    "        data, lat, lon = selected_grb.data()\n",
    "        grbs.close()\n",
    "\n",
    "        array_2d = data.filled(np.nan)\n",
    "\n",
    "        ds = xr.Dataset(\n",
    "            {\n",
    "                \"tp\": ([\"y\", \"x\"], array_2d)\n",
    "            },\n",
    "            coords={\n",
    "                \"lat\": ([\"y\", \"x\"], lat),\n",
    "                \"lon\": ([\"y\", \"x\"], lon),\n",
    "                \"time\": time_dt\n",
    "            }\n",
    "        )\n",
    "\n",
    "        nc_filename = os.path.join(output_dir, f\"{time_str}.nc\")\n",
    "        ds.to_netcdf(nc_filename)\n",
    "    except Exception:\n",
    "        pass"
   ]
  },
  {
   "cell_type": "code",
   "execution_count": null,
   "id": "f7db07a1-1db0-4c53-8b05-c00411b2c06f",
   "metadata": {},
   "outputs": [],
   "source": []
  }
 ],
 "metadata": {
  "kernelspec": {
   "display_name": "Python 3 (ipykernel)",
   "language": "python",
   "name": "python3"
  },
  "language_info": {
   "codemirror_mode": {
    "name": "ipython",
    "version": 3
   },
   "file_extension": ".py",
   "mimetype": "text/x-python",
   "name": "python",
   "nbconvert_exporter": "python",
   "pygments_lexer": "ipython3",
   "version": "3.10.16"
  }
 },
 "nbformat": 4,
 "nbformat_minor": 5
}
