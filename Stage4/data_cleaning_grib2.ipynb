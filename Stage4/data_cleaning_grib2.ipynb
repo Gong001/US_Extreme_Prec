{
 "cells": [
  {
   "cell_type": "code",
   "execution_count": 1,
   "id": "cda844e9-5f76-414e-9d61-70ca7f677d9e",
   "metadata": {},
   "outputs": [],
   "source": [
    "import pygrib\n",
    "import xarray as xr\n",
    "import pandas as pd\n",
    "import numpy as np\n",
    "import matplotlib.pyplot as plt\n",
    "import glob\n",
    "import os\n",
    "import re\n",
    "import random\n",
    "from collections import defaultdict\n",
    "import datetime"
   ]
  },
  {
   "cell_type": "code",
   "execution_count": 2,
   "id": "af02fb8f-5c2c-43ff-bf39-a6040a49bdb3",
   "metadata": {},
   "outputs": [
    {
     "name": "stdout",
     "output_type": "stream",
     "text": [
      "2025-03-20 22:16:51.262767\n"
     ]
    }
   ],
   "source": [
    "input_dir = \"/N/project/Zli_lab/Data/Observations/stage4_jja_processed\"\n",
    "grib_files = sorted(glob.glob(os.path.join(input_dir, \"st4_conus.*.01h.grb2\")))\n",
    "\n",
    "output_dir = \"/N/project/Zli_lab/gongg/stage4_data/stage4_nc\"\n",
    "\n",
    "print(datetime.datetime.now())"
   ]
  },
  {
   "cell_type": "code",
   "execution_count": 3,
   "id": "0b65f236-8f0a-4397-bd6d-b4bdb787e7e2",
   "metadata": {},
   "outputs": [
    {
     "data": {
      "text/plain": [
       "16440"
      ]
     },
     "execution_count": 3,
     "metadata": {},
     "output_type": "execute_result"
    }
   ],
   "source": [
    "len(grib_files)"
   ]
  },
  {
   "cell_type": "code",
   "execution_count": 10,
   "id": "171f913e-db9e-461f-a4f1-a5731d72a360",
   "metadata": {},
   "outputs": [
    {
     "name": "stdout",
     "output_type": "stream",
     "text": [
      "2025-03-20 23:52:24.439348\n"
     ]
    }
   ],
   "source": [
    "for grb_file in grib_files:\n",
    "    base_name = os.path.basename(grb_file)  \n",
    "  \n",
    "    time_str = base_name.split(\".\")[1]   \n",
    "    \n",
    "    time_dt = datetime.datetime.strptime(time_str, \"%Y%m%d%H\")\n",
    "\n",
    "\n",
    "    grbs = pygrib.open(grb_file)\n",
    "    \n",
    "    selected_grb = grbs.select(name=\"Total Precipitation\")[0]\n",
    "    \n",
    "    data, lat, lon = selected_grb.data()\n",
    "    grbs.close()\n",
    "\n",
    "    \n",
    "    array_2d = data.filled(np.nan)\n",
    "\n",
    "    \n",
    "    ds = xr.Dataset(\n",
    "        {\n",
    "            \"tp\": ([\"y\", \"x\"], array_2d)\n",
    "        },\n",
    "        coords={\n",
    "            \"lat\": ([\"y\", \"x\"], lat),\n",
    "            \"lon\": ([\"y\", \"x\"], lon),\n",
    "           \n",
    "            \"time\": time_dt\n",
    "        }\n",
    "    )\n",
    "\n",
    "\n",
    "    nc_filename = os.path.join(output_dir, f\"{time_str}.nc\")\n",
    "    ds.to_netcdf(nc_filename)\n",
    "\n",
    "print(datetime.datetime.now())"
   ]
  },
  {
   "cell_type": "code",
   "execution_count": null,
   "id": "cd4334e6-7c87-4a89-b087-80913b7b2cfe",
   "metadata": {},
   "outputs": [],
   "source": []
  }
 ],
 "metadata": {
  "kernelspec": {
   "display_name": "Python 3 (ipykernel)",
   "language": "python",
   "name": "python3"
  },
  "language_info": {
   "codemirror_mode": {
    "name": "ipython",
    "version": 3
   },
   "file_extension": ".py",
   "mimetype": "text/x-python",
   "name": "python",
   "nbconvert_exporter": "python",
   "pygments_lexer": "ipython3",
   "version": "3.10.16"
  }
 },
 "nbformat": 4,
 "nbformat_minor": 5
}
