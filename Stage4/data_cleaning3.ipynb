{
 "cells": [
  {
   "cell_type": "code",
   "execution_count": 2,
   "id": "3cc3a449-989a-49e4-bd9f-d43cbeae740d",
   "metadata": {},
   "outputs": [],
   "source": [
    "import pygrib\n",
    "import xarray as xr\n",
    "import pandas as pd\n",
    "import numpy as np\n",
    "import matplotlib.pyplot as plt\n",
    "import glob\n",
    "import os\n",
    "import re\n",
    "import random\n",
    "from collections import defaultdict\n",
    "import datetime"
   ]
  },
  {
   "cell_type": "code",
   "execution_count": 3,
   "id": "8b041698-7484-4b63-ab65-5a939fb53d58",
   "metadata": {},
   "outputs": [
    {
     "name": "stdout",
     "output_type": "stream",
     "text": [
      "2025-03-24 22:23:28.774799\n"
     ]
    },
    {
     "ename": "KeyboardInterrupt",
     "evalue": "",
     "output_type": "error",
     "traceback": [
      "\u001b[0;31m---------------------------------------------------------------------------\u001b[0m",
      "\u001b[0;31mKeyboardInterrupt\u001b[0m                         Traceback (most recent call last)",
      "Cell \u001b[0;32mIn[3], line 19\u001b[0m\n\u001b[1;32m     15\u001b[0m grbs \u001b[38;5;241m=\u001b[39m pygrib\u001b[38;5;241m.\u001b[39mopen(grb_file)\n\u001b[1;32m     17\u001b[0m selected_grb \u001b[38;5;241m=\u001b[39m grbs\u001b[38;5;241m.\u001b[39mselect(name\u001b[38;5;241m=\u001b[39m\u001b[38;5;124m\"\u001b[39m\u001b[38;5;124mTotal Precipitation\u001b[39m\u001b[38;5;124m\"\u001b[39m)[\u001b[38;5;241m0\u001b[39m]\n\u001b[0;32m---> 19\u001b[0m data, lat, lon \u001b[38;5;241m=\u001b[39m \u001b[43mselected_grb\u001b[49m\u001b[38;5;241;43m.\u001b[39;49m\u001b[43mdata\u001b[49m\u001b[43m(\u001b[49m\u001b[43m)\u001b[49m\n\u001b[1;32m     20\u001b[0m grbs\u001b[38;5;241m.\u001b[39mclose()\n\u001b[1;32m     23\u001b[0m array_2d \u001b[38;5;241m=\u001b[39m data\u001b[38;5;241m.\u001b[39mfilled(np\u001b[38;5;241m.\u001b[39mnan)\n",
      "File \u001b[0;32msrc/pygrib/_pygrib.pyx:1064\u001b[0m, in \u001b[0;36mpygrib._pygrib.gribmessage.data\u001b[0;34m()\u001b[0m\n",
      "File \u001b[0;32msrc/pygrib/_pygrib.pyx:1621\u001b[0m, in \u001b[0;36mpygrib._pygrib.gribmessage.latlons\u001b[0;34m()\u001b[0m\n",
      "File \u001b[0;32m~/anaconda3/envs/stage4/lib/python3.10/site-packages/pyproj/proj.py:195\u001b[0m, in \u001b[0;36mProj.__call__\u001b[0;34m(self, longitude, latitude, inverse, errcheck, radians)\u001b[0m\n\u001b[1;32m    193\u001b[0m \u001b[38;5;28;01melse\u001b[39;00m:\n\u001b[1;32m    194\u001b[0m     direction \u001b[38;5;241m=\u001b[39m TransformDirection\u001b[38;5;241m.\u001b[39mFORWARD\n\u001b[0;32m--> 195\u001b[0m \u001b[38;5;28;01mreturn\u001b[39;00m \u001b[38;5;28;43mself\u001b[39;49m\u001b[38;5;241;43m.\u001b[39;49m\u001b[43mtransform\u001b[49m\u001b[43m(\u001b[49m\n\u001b[1;32m    196\u001b[0m \u001b[43m    \u001b[49m\u001b[43mxx\u001b[49m\u001b[38;5;241;43m=\u001b[39;49m\u001b[43mlongitude\u001b[49m\u001b[43m,\u001b[49m\n\u001b[1;32m    197\u001b[0m \u001b[43m    \u001b[49m\u001b[43myy\u001b[49m\u001b[38;5;241;43m=\u001b[39;49m\u001b[43mlatitude\u001b[49m\u001b[43m,\u001b[49m\n\u001b[1;32m    198\u001b[0m \u001b[43m    \u001b[49m\u001b[43mdirection\u001b[49m\u001b[38;5;241;43m=\u001b[39;49m\u001b[43mdirection\u001b[49m\u001b[43m,\u001b[49m\n\u001b[1;32m    199\u001b[0m \u001b[43m    \u001b[49m\u001b[43merrcheck\u001b[49m\u001b[38;5;241;43m=\u001b[39;49m\u001b[43merrcheck\u001b[49m\u001b[43m,\u001b[49m\n\u001b[1;32m    200\u001b[0m \u001b[43m    \u001b[49m\u001b[43mradians\u001b[49m\u001b[38;5;241;43m=\u001b[39;49m\u001b[43mradians\u001b[49m\u001b[43m,\u001b[49m\n\u001b[1;32m    201\u001b[0m \u001b[43m\u001b[49m\u001b[43m)\u001b[49m\n",
      "File \u001b[0;32m~/anaconda3/envs/stage4/lib/python3.10/site-packages/pyproj/transformer.py:842\u001b[0m, in \u001b[0;36mTransformer.transform\u001b[0;34m(self, xx, yy, zz, tt, radians, errcheck, direction, inplace)\u001b[0m\n\u001b[1;32m    840\u001b[0m     intime \u001b[38;5;241m=\u001b[39m \u001b[38;5;28;01mNone\u001b[39;00m\n\u001b[1;32m    841\u001b[0m \u001b[38;5;66;03m# call pj_transform.  inx,iny,inz buffers modified in place.\u001b[39;00m\n\u001b[0;32m--> 842\u001b[0m \u001b[38;5;28;43mself\u001b[39;49m\u001b[38;5;241;43m.\u001b[39;49m\u001b[43m_transformer\u001b[49m\u001b[38;5;241;43m.\u001b[39;49m\u001b[43m_transform\u001b[49m\u001b[43m(\u001b[49m\n\u001b[1;32m    843\u001b[0m \u001b[43m    \u001b[49m\u001b[43minx\u001b[49m\u001b[38;5;241;43m=\u001b[39;49m\u001b[43minx\u001b[49m\u001b[43m,\u001b[49m\n\u001b[1;32m    844\u001b[0m \u001b[43m    \u001b[49m\u001b[43miny\u001b[49m\u001b[38;5;241;43m=\u001b[39;49m\u001b[43miny\u001b[49m\u001b[43m,\u001b[49m\n\u001b[1;32m    845\u001b[0m \u001b[43m    \u001b[49m\u001b[43minz\u001b[49m\u001b[38;5;241;43m=\u001b[39;49m\u001b[43minz\u001b[49m\u001b[43m,\u001b[49m\n\u001b[1;32m    846\u001b[0m \u001b[43m    \u001b[49m\u001b[43mintime\u001b[49m\u001b[38;5;241;43m=\u001b[39;49m\u001b[43mintime\u001b[49m\u001b[43m,\u001b[49m\n\u001b[1;32m    847\u001b[0m \u001b[43m    \u001b[49m\u001b[43mdirection\u001b[49m\u001b[38;5;241;43m=\u001b[39;49m\u001b[43mdirection\u001b[49m\u001b[43m,\u001b[49m\n\u001b[1;32m    848\u001b[0m \u001b[43m    \u001b[49m\u001b[43mradians\u001b[49m\u001b[38;5;241;43m=\u001b[39;49m\u001b[43mradians\u001b[49m\u001b[43m,\u001b[49m\n\u001b[1;32m    849\u001b[0m \u001b[43m    \u001b[49m\u001b[43merrcheck\u001b[49m\u001b[38;5;241;43m=\u001b[39;49m\u001b[43merrcheck\u001b[49m\u001b[43m,\u001b[49m\n\u001b[1;32m    850\u001b[0m \u001b[43m\u001b[49m\u001b[43m)\u001b[49m\n\u001b[1;32m    851\u001b[0m \u001b[38;5;66;03m# if inputs were lists, tuples or floats, convert back.\u001b[39;00m\n\u001b[1;32m    852\u001b[0m outx \u001b[38;5;241m=\u001b[39m _convertback(x_data_type, inx)\n",
      "\u001b[0;31mKeyboardInterrupt\u001b[0m: "
     ]
    }
   ],
   "source": [
    "input_dir = \"/N/project/Zli_lab/Data/Observations/stage4_jja_processed\"\n",
    "grib_files = sorted(glob.glob(os.path.join(input_dir, \"ST4.*.01h\")))\n",
    "\n",
    "output_dir = \"/N/project/Zli_lab/gongg/stage4_data/stage4_nc\"\n",
    "\n",
    "print(datetime.datetime.now())\n",
    "for grb_file in grib_files[40000:60000]:\n",
    "    base_name = os.path.basename(grb_file)  \n",
    "  \n",
    "    time_str = base_name.split(\".\")[1]   \n",
    "    \n",
    "    time_dt = datetime.datetime.strptime(time_str, \"%Y%m%d%H\")\n",
    "\n",
    "\n",
    "    grbs = pygrib.open(grb_file)\n",
    "    \n",
    "    selected_grb = grbs.select(name=\"Total Precipitation\")[0]\n",
    "    \n",
    "    data, lat, lon = selected_grb.data()\n",
    "    grbs.close()\n",
    "\n",
    "    \n",
    "    array_2d = data.filled(np.nan)\n",
    "\n",
    "    \n",
    "    ds = xr.Dataset(\n",
    "        {\n",
    "            \"tp\": ([\"y\", \"x\"], array_2d)\n",
    "        },\n",
    "        coords={\n",
    "            \"lat\": ([\"y\", \"x\"], lat),\n",
    "            \"lon\": ([\"y\", \"x\"], lon),\n",
    "           \n",
    "            \"time\": time_dt\n",
    "        }\n",
    "    )\n",
    "\n",
    "    \n",
    "    nc_filename = os.path.join(output_dir, f\"{time_str}.nc\")\n",
    "    ds.to_netcdf(nc_filename)\n",
    "\n",
    "print(datetime.datetime.now())"
   ]
  },
  {
   "cell_type": "code",
   "execution_count": 4,
   "id": "7a95910d-62b8-4510-8b41-a76e77c78cd1",
   "metadata": {},
   "outputs": [],
   "source": [
    "input_dir = \"/N/project/Zli_lab/Data/Observations/stage4_jja_processed\"\n",
    "output_dir = \"/N/project/Zli_lab/gongg/stage4_data/stage4_nc\"\n",
    "\n",
    "\n",
    "grib_files = sorted(glob.glob(os.path.join(input_dir, \"ST4.*.01h\")))\n",
    "input_times = {os.path.basename(f).split(\".\")[1]: f for f in grib_files}\n",
    "\n",
    "\n",
    "nc_files = sorted(glob.glob(os.path.join(output_dir, \"*.nc\")))\n",
    "output_times = {os.path.splitext(os.path.basename(f))[0] for f in nc_files}\n",
    "\n",
    "\n",
    "missing_times = set(input_times.keys()) - output_times"
   ]
  },
  {
   "cell_type": "code",
   "execution_count": 5,
   "id": "f8ddbcc8-fe42-4b9d-816c-839411628f40",
   "metadata": {},
   "outputs": [],
   "source": [
    "sorted_missing = sorted(missing_times)\n",
    "\n",
    "\n",
    "for time_str in sorted_missing[10000:15000]:\n",
    "    grb_file = input_times[time_str]\n",
    "    try:\n",
    "        time_dt = datetime.datetime.strptime(time_str, \"%Y%m%d%H\")\n",
    "        grbs = pygrib.open(grb_file)\n",
    "        selected_grb = grbs[1]  # 注意：pygrib的索引从1开始\n",
    "        data, lat, lon = selected_grb.data()\n",
    "        grbs.close()\n",
    "\n",
    "        array_2d = data.filled(np.nan)\n",
    "\n",
    "        ds = xr.Dataset(\n",
    "            {\n",
    "                \"tp\": ([\"y\", \"x\"], array_2d)\n",
    "            },\n",
    "            coords={\n",
    "                \"lat\": ([\"y\", \"x\"], lat),\n",
    "                \"lon\": ([\"y\", \"x\"], lon),\n",
    "                \"time\": time_dt\n",
    "            }\n",
    "        )\n",
    "\n",
    "        nc_filename = os.path.join(output_dir, f\"{time_str}.nc\")\n",
    "        ds.to_netcdf(nc_filename)\n",
    "    except Exception:\n",
    "        pass"
   ]
  },
  {
   "cell_type": "code",
   "execution_count": null,
   "id": "debb402c-a5ae-4397-b43b-b4fd2e6598d0",
   "metadata": {},
   "outputs": [],
   "source": []
  },
  {
   "cell_type": "code",
   "execution_count": null,
   "id": "739604a5-f10e-4457-87c1-815f77b597da",
   "metadata": {},
   "outputs": [],
   "source": []
  },
  {
   "cell_type": "markdown",
   "id": "8ceeb16a-2bfd-4f71-bc20-6bd6c22d15ae",
   "metadata": {},
   "source": [
    "## sept"
   ]
  },
  {
   "cell_type": "code",
   "execution_count": 4,
   "id": "ada24920-88db-4948-8b34-73f6733fce19",
   "metadata": {},
   "outputs": [],
   "source": [
    "# 目录路径\n",
    "data_dir = \"/N/project/Zli_lab/Data/Observations/stage4_jja_processed\"\n",
    "\n",
    "# 为两种文件格式分别定义匹配模式：\n",
    "# 1) ST4.*09*.01h*\n",
    "# 2) st4_conus.*09*.01h*.grb2\n",
    "pattern_st4  = os.path.join(data_dir, \"ST4.????09????.01h\")\n",
    "pattern_conus = os.path.join(data_dir, \"st4_conus.????09????.01h.grb2\")\n",
    "\n",
    "# 分别获取匹配的文件，并合并、排序\n",
    "files_sep = glob.glob(pattern_st4) + glob.glob(pattern_conus)\n",
    "files_sep_sorted = sorted(files_sep)"
   ]
  },
  {
   "cell_type": "code",
   "execution_count": 5,
   "id": "b9e6b82f-ed5d-479b-b0fc-40ea8afcdb3a",
   "metadata": {},
   "outputs": [],
   "source": [
    "sorted_missing = files_sep_sorted\n",
    "\n",
    "for file_path in sorted_missing[5000:10000]:\n",
    "    try:\n",
    "        # 从文件名中解析时间 (如果需要)\n",
    "        basename = os.path.basename(file_path)\n",
    "        date_part = basename.split('.')[1]  # 例如 \"2002090100\"\n",
    "        time_dt = datetime.datetime.strptime(date_part, \"%Y%m%d%H\")\n",
    "\n",
    "        # 直接用 file_path 打开 GRIB 文件\n",
    "        grbs = pygrib.open(file_path)\n",
    "        selected_grb = grbs[1]\n",
    "        data, lat, lon = selected_grb.data()\n",
    "        grbs.close()\n",
    "\n",
    "        array_2d = data.filled(np.nan)\n",
    "\n",
    "        ds = xr.Dataset(\n",
    "            {\n",
    "                \"tp\": ([\"y\", \"x\"], array_2d)\n",
    "            },\n",
    "            coords={\n",
    "                \"lat\": ([\"y\", \"x\"], lat),\n",
    "                \"lon\": ([\"y\", \"x\"], lon),\n",
    "                \"time\": time_dt\n",
    "            }\n",
    "        )\n",
    "\n",
    "        nc_filename = os.path.join(output_dir, f\"{date_part}.nc\")\n",
    "        ds.to_netcdf(nc_filename)\n",
    "    except Exception as e:\n",
    "        print(\"Error:\", e)\n",
    "        pass\n"
   ]
  },
  {
   "cell_type": "code",
   "execution_count": null,
   "id": "a22e9126-8d14-440a-a58e-dc08e1be8e78",
   "metadata": {},
   "outputs": [],
   "source": []
  }
 ],
 "metadata": {
  "kernelspec": {
   "display_name": "Python 3 (ipykernel)",
   "language": "python",
   "name": "python3"
  },
  "language_info": {
   "codemirror_mode": {
    "name": "ipython",
    "version": 3
   },
   "file_extension": ".py",
   "mimetype": "text/x-python",
   "name": "python",
   "nbconvert_exporter": "python",
   "pygments_lexer": "ipython3",
   "version": "3.10.16"
  }
 },
 "nbformat": 4,
 "nbformat_minor": 5
}
