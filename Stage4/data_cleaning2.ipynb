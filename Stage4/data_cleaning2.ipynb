{
 "cells": [
  {
   "cell_type": "code",
   "execution_count": 1,
   "id": "4021be59-4186-4c4f-bb26-9a199e608d14",
   "metadata": {},
   "outputs": [],
   "source": [
    "import pygrib\n",
    "import xarray as xr\n",
    "import pandas as pd\n",
    "import numpy as np\n",
    "import matplotlib.pyplot as plt\n",
    "import glob\n",
    "import os\n",
    "import re\n",
    "import random\n",
    "from collections import defaultdict\n",
    "import datetime"
   ]
  },
  {
   "cell_type": "code",
   "execution_count": 2,
   "id": "ed2a9765-43bf-4ea4-9b72-a73a51bf3a9f",
   "metadata": {},
   "outputs": [
    {
     "name": "stdout",
     "output_type": "stream",
     "text": [
      "2025-03-20 22:14:36.375663\n"
     ]
    },
    {
     "ename": "ValueError",
     "evalue": "no matches found",
     "output_type": "error",
     "traceback": [
      "\u001b[0;31m---------------------------------------------------------------------------\u001b[0m",
      "\u001b[0;31mValueError\u001b[0m                                Traceback (most recent call last)",
      "Cell \u001b[0;32mIn[2], line 17\u001b[0m\n\u001b[1;32m     12\u001b[0m time_dt \u001b[38;5;241m=\u001b[39m datetime\u001b[38;5;241m.\u001b[39mdatetime\u001b[38;5;241m.\u001b[39mstrptime(time_str, \u001b[38;5;124m\"\u001b[39m\u001b[38;5;124m%\u001b[39m\u001b[38;5;124mY\u001b[39m\u001b[38;5;124m%\u001b[39m\u001b[38;5;124mm\u001b[39m\u001b[38;5;132;01m%d\u001b[39;00m\u001b[38;5;124m%\u001b[39m\u001b[38;5;124mH\u001b[39m\u001b[38;5;124m\"\u001b[39m)\n\u001b[1;32m     15\u001b[0m grbs \u001b[38;5;241m=\u001b[39m pygrib\u001b[38;5;241m.\u001b[39mopen(grb_file)\n\u001b[0;32m---> 17\u001b[0m selected_grb \u001b[38;5;241m=\u001b[39m \u001b[43mgrbs\u001b[49m\u001b[38;5;241;43m.\u001b[39;49m\u001b[43mselect\u001b[49m\u001b[43m(\u001b[49m\u001b[43mname\u001b[49m\u001b[38;5;241;43m=\u001b[39;49m\u001b[38;5;124;43m\"\u001b[39;49m\u001b[38;5;124;43mTotal Precipitation\u001b[39;49m\u001b[38;5;124;43m\"\u001b[39;49m\u001b[43m)\u001b[49m[\u001b[38;5;241m0\u001b[39m]\n\u001b[1;32m     19\u001b[0m data, lat, lon \u001b[38;5;241m=\u001b[39m selected_grb\u001b[38;5;241m.\u001b[39mdata()\n\u001b[1;32m     20\u001b[0m grbs\u001b[38;5;241m.\u001b[39mclose()\n",
      "File \u001b[0;32msrc/pygrib/_pygrib.pyx:584\u001b[0m, in \u001b[0;36mpygrib._pygrib.open.select\u001b[0;34m()\u001b[0m\n",
      "\u001b[0;31mValueError\u001b[0m: no matches found"
     ]
    }
   ],
   "source": [
    "input_dir = \"/N/project/Zli_lab/Data/Observations/stage4_jja_processed\"\n",
    "grib_files = sorted(glob.glob(os.path.join(input_dir, \"ST4.*.01h\")))\n",
    "\n",
    "output_dir = \"/N/project/Zli_lab/gongg/stage4_data/stage4_nc\"\n",
    "\n",
    "print(datetime.datetime.now())\n",
    "for grb_file in grib_files[20000:40000]:\n",
    "    base_name = os.path.basename(grb_file)  \n",
    "  \n",
    "    time_str = base_name.split(\".\")[1]   \n",
    "    \n",
    "    time_dt = datetime.datetime.strptime(time_str, \"%Y%m%d%H\")\n",
    "\n",
    "\n",
    "    grbs = pygrib.open(grb_file)\n",
    "    \n",
    "    selected_grb = grbs.select(name=\"Total Precipitation\")[0]\n",
    "    \n",
    "    data, lat, lon = selected_grb.data()\n",
    "    grbs.close()\n",
    "\n",
    "    \n",
    "    array_2d = data.filled(np.nan)\n",
    "\n",
    "    \n",
    "    ds = xr.Dataset(\n",
    "        {\n",
    "            \"tp\": ([\"y\", \"x\"], array_2d)\n",
    "        },\n",
    "        coords={\n",
    "            \"lat\": ([\"y\", \"x\"], lat),\n",
    "            \"lon\": ([\"y\", \"x\"], lon),\n",
    "           \n",
    "            \"time\": time_dt\n",
    "        }\n",
    "    )\n",
    "\n",
    "    \n",
    "    nc_filename = os.path.join(output_dir, f\"{time_str}.nc\")\n",
    "    ds.to_netcdf(nc_filename)\n",
    "\n",
    "print(datetime.datetime.now())"
   ]
  },
  {
   "cell_type": "code",
   "execution_count": 2,
   "id": "14635dbf-60c0-45eb-af42-2cc03b125a21",
   "metadata": {},
   "outputs": [],
   "source": [
    "input_dir = \"/N/project/Zli_lab/Data/Observations/stage4_jja_processed\"\n",
    "output_dir = \"/N/project/Zli_lab/gongg/stage4_data/stage4_nc\"\n",
    "\n",
    "\n",
    "grib_files = sorted(glob.glob(os.path.join(input_dir, \"ST4.*.01h\")))\n",
    "input_times = {os.path.basename(f).split(\".\")[1]: f for f in grib_files}\n",
    "\n",
    "\n",
    "nc_files = sorted(glob.glob(os.path.join(output_dir, \"*.nc\")))\n",
    "output_times = {os.path.splitext(os.path.basename(f))[0] for f in nc_files}\n",
    "\n",
    "\n",
    "missing_times = set(input_times.keys()) - output_times"
   ]
  },
  {
   "cell_type": "code",
   "execution_count": 5,
   "id": "e66baa0e-e78a-4f83-b4f7-42a8ce84386c",
   "metadata": {},
   "outputs": [],
   "source": [
    "sorted_missing = sorted(missing_times)\n",
    "\n",
    "\n",
    "for time_str in sorted_missing[5000:10000]:\n",
    "    grb_file = input_times[time_str]\n",
    "    try:\n",
    "        time_dt = datetime.datetime.strptime(time_str, \"%Y%m%d%H\")\n",
    "        grbs = pygrib.open(grb_file)\n",
    "        selected_grb = grbs[1]  # 注意：pygrib的索引从1开始\n",
    "        data, lat, lon = selected_grb.data()\n",
    "        grbs.close()\n",
    "\n",
    "        array_2d = data.filled(np.nan)\n",
    "\n",
    "        ds = xr.Dataset(\n",
    "            {\n",
    "                \"tp\": ([\"y\", \"x\"], array_2d)\n",
    "            },\n",
    "            coords={\n",
    "                \"lat\": ([\"y\", \"x\"], lat),\n",
    "                \"lon\": ([\"y\", \"x\"], lon),\n",
    "                \"time\": time_dt\n",
    "            }\n",
    "        )\n",
    "\n",
    "        nc_filename = os.path.join(output_dir, f\"{time_str}.nc\")\n",
    "        ds.to_netcdf(nc_filename)\n",
    "    except Exception:\n",
    "        pass"
   ]
  },
  {
   "cell_type": "code",
   "execution_count": null,
   "id": "d185139d-8702-4322-827b-d59ae37f683e",
   "metadata": {},
   "outputs": [],
   "source": []
  },
  {
   "cell_type": "code",
   "execution_count": null,
   "id": "6fe7bec8-582a-460b-98c5-93a2817bdb2a",
   "metadata": {},
   "outputs": [],
   "source": []
  },
  {
   "cell_type": "markdown",
   "id": "541970f3-dede-44c1-b1fb-6c66c7fd90dc",
   "metadata": {},
   "source": [
    "### step"
   ]
  },
  {
   "cell_type": "code",
   "execution_count": 34,
   "id": "7bd39fa5-bed6-4a48-965f-e7dd405dfb43",
   "metadata": {},
   "outputs": [],
   "source": [
    "# 目录路径\n",
    "data_dir = \"/N/project/Zli_lab/Data/Observations/stage4_jja_processed\"\n",
    "\n",
    "# 为两种文件格式分别定义匹配模式：\n",
    "# 1) ST4.*09*.01h*\n",
    "# 2) st4_conus.*09*.01h*.grb2\n",
    "pattern_st4  = os.path.join(data_dir, \"ST4.????09????.01h\")\n",
    "pattern_conus = os.path.join(data_dir, \"st4_conus.????09????.01h.grb2\")\n",
    "\n",
    "# 分别获取匹配的文件，并合并、排序\n",
    "files_sep = glob.glob(pattern_st4) + glob.glob(pattern_conus)\n",
    "files_sep_sorted = sorted(files_sep)"
   ]
  },
  {
   "cell_type": "code",
   "execution_count": 37,
   "id": "1ed9598f-5af1-47cb-8c82-a20daec72659",
   "metadata": {},
   "outputs": [],
   "source": [
    "# 目录路径\n",
    "data_dir = \"/N/project/Zli_lab/Data/Observations/stage4_jja_processed\"\n",
    "\n",
    "# 为两种文件格式分别定义匹配模式：\n",
    "# 1) ST4.*09*.01h*\n",
    "# 2) st4_conus.*09*.01h*.grb2\n",
    "pattern_st4  = os.path.join(data_dir, \"ST4.????09????.01h\")\n",
    "pattern_conus = os.path.join(data_dir, \"st4_conus.????09????.01h.grb2\")\n",
    "\n",
    "# 分别获取匹配的文件，并合并、排序\n",
    "files_sep = glob.glob(pattern_st4) + glob.glob(pattern_conus)\n",
    "files_sep_sorted = sorted(files_sep)"
   ]
  },
  {
   "cell_type": "code",
   "execution_count": 39,
   "id": "843a35ad-7887-4ca6-b9b7-9a016250393f",
   "metadata": {},
   "outputs": [],
   "source": [
    "sorted_missing = files_sep_sorted\n",
    "\n",
    "for file_path in sorted_missing[0:5000]:\n",
    "    try:\n",
    "        # 从文件名中解析时间 (如果需要)\n",
    "        basename = os.path.basename(file_path)\n",
    "        date_part = basename.split('.')[1]  # 例如 \"2002090100\"\n",
    "        time_dt = datetime.datetime.strptime(date_part, \"%Y%m%d%H\")\n",
    "\n",
    "        # 直接用 file_path 打开 GRIB 文件\n",
    "        grbs = pygrib.open(file_path)\n",
    "        selected_grb = grbs[1]\n",
    "        data, lat, lon = selected_grb.data()\n",
    "        grbs.close()\n",
    "\n",
    "        array_2d = data.filled(np.nan)\n",
    "\n",
    "        ds = xr.Dataset(\n",
    "            {\n",
    "                \"tp\": ([\"y\", \"x\"], array_2d)\n",
    "            },\n",
    "            coords={\n",
    "                \"lat\": ([\"y\", \"x\"], lat),\n",
    "                \"lon\": ([\"y\", \"x\"], lon),\n",
    "                \"time\": time_dt\n",
    "            }\n",
    "        )\n",
    "\n",
    "        nc_filename = os.path.join(output_dir, f\"{date_part}.nc\")\n",
    "        ds.to_netcdf(nc_filename)\n",
    "    except Exception as e:\n",
    "        print(\"Error:\", e)\n",
    "        pass\n"
   ]
  },
  {
   "cell_type": "code",
   "execution_count": null,
   "id": "7de16726-78b8-4007-b009-7fc617404f02",
   "metadata": {},
   "outputs": [],
   "source": []
  }
 ],
 "metadata": {
  "kernelspec": {
   "display_name": "Python 3 (ipykernel)",
   "language": "python",
   "name": "python3"
  },
  "language_info": {
   "codemirror_mode": {
    "name": "ipython",
    "version": 3
   },
   "file_extension": ".py",
   "mimetype": "text/x-python",
   "name": "python",
   "nbconvert_exporter": "python",
   "pygments_lexer": "ipython3",
   "version": "3.10.16"
  }
 },
 "nbformat": 4,
 "nbformat_minor": 5
}
