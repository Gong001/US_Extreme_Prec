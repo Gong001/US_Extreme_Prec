{
 "cells": [
  {
   "cell_type": "code",
   "execution_count": 76,
   "id": "5b657f83-4e80-42da-9752-4818e05c674f",
   "metadata": {},
   "outputs": [],
   "source": [
    "import glob\n",
    "import xarray as xr\n",
    "import numpy as np\n",
    "from datetime import datetime\n",
    "import re\n",
    "from collections import defaultdict\n",
    "import os\n",
    "# ---------------------------\n",
    "# 1. 利用 glob 获取所有目标文件并排序\n",
    "# ---------------------------\n",
    "patterns = ['/N/project/Zli_lab/gongg/stage4_data/regrid_cons/*',]\n",
    "\n",
    "all_files = []\n",
    "for pattern in patterns:\n",
    "    all_files.extend(glob.glob(pattern))\n",
    "all_files.sort()"
   ]
  },
  {
   "cell_type": "code",
   "execution_count": 77,
   "id": "1a6ed46c-d439-488c-a5c3-6cb05b1c1b11",
   "metadata": {},
   "outputs": [],
   "source": [
    "month_groups = defaultdict(list)\n",
    "pattern = re.compile(r\".*/(\\d{8})\\.nc$\")  # 用于从文件路径中提取形如 20020601 的日期\n",
    "\n",
    "for fpath in all_files:\n",
    "    match = pattern.match(fpath)\n",
    "    if match:\n",
    "        date_str = match.group(1)  # '20020601'\n",
    "        year = date_str[:4]        # '2002'\n",
    "        month = date_str[4:6]      # '06'\n",
    "        # day = date_str[6:]       # '01'\n",
    "        month_groups[(year, month)].append(fpath)\n",
    "\n",
    "# 3. 打开参考数据 ds_ref，用来做空间掩膜\n",
    "ds_ref = xr.open_dataset(\"/N/project/Zli_lab/gongg/regrid/ref_.1deg.nc\")\n",
    "\n",
    "# 定义经度区间及对应的 UTC 偏移量\n",
    "lon_ranges = [(-np.inf, -112.5), (-112.5, -97.5), (-97.5, -82.5), (-82.5, np.inf)]\n",
    "utc_offsets = [-8, -7, -6, -5]\n",
    "\n",
    "# 设定输出目录\n",
    "output_dir = \"/N/project/Zli_lab/gongg/stage4_data/LST\"\n",
    "os.makedirs(output_dir, exist_ok=True) \n"
   ]
  },
  {
   "cell_type": "code",
   "execution_count": 102,
   "id": "261318f8-92ec-41a4-b36a-9f65eb20918d",
   "metadata": {},
   "outputs": [
    {
     "name": "stdout",
     "output_type": "stream",
     "text": [
      "2025-03-27 13:44:33.808465\n",
      "2025-03-27 13:49:26.436096\n",
      "2025-03-27 13:56:00.943471\n"
     ]
    }
   ],
   "source": [
    "global_counter = 0\n",
    "\n",
    "for (year, month), file_list in sorted(month_groups.items()):\n",
    "    ds_stage4 = xr.open_mfdataset(file_list, combine='by_coords')\n",
    "    mask_nan = ds_ref[\"tp\"].isel(time=0).isnull()\n",
    "    ds_stage4 = ds_stage4.where(~mask_nan)\n",
    "    for (lon_min, lon_max), offset in zip(lon_ranges, utc_offsets):\n",
    "        mask = (ds_stage4.lon >= lon_min) & (ds_stage4.lon < lon_max)\n",
    "        ds_lon_subset = ds_stage4.where(mask, drop=True)\n",
    "        if ds_lon_subset.lon.size > 0 and ds_lon_subset.lat.size > 0:\n",
    "            original_times = ds_lon_subset.time\n",
    "            adjusted_times = original_times + np.timedelta64(offset, 'h')\n",
    "            ds_lon_subset = ds_lon_subset.assign_coords(time=adjusted_times)\n",
    "            output_filename = f\"{year}{month}_U{offset:+d}.nc\"\n",
    "            output_path = os.path.join(output_dir, output_filename)\n",
    "            ds_lon_subset.to_netcdf(output_path)\n",
    "            global_counter += 1\n",
    "        if global_counter % 100 == 0:\n",
    "            print(datetime.now())\n"
   ]
  },
  {
   "cell_type": "code",
   "execution_count": null,
   "id": "e2cf1a80-66d7-49f5-ae88-5d4edbc47899",
   "metadata": {},
   "outputs": [],
   "source": []
  },
  {
   "cell_type": "code",
   "execution_count": null,
   "id": "ac81c97d-85d0-433d-baba-4ff6978b4615",
   "metadata": {},
   "outputs": [],
   "source": []
  },
  {
   "cell_type": "code",
   "execution_count": null,
   "id": "a3279004-f9bb-40cc-a460-1c6b0c0af2d7",
   "metadata": {},
   "outputs": [],
   "source": []
  },
  {
   "cell_type": "code",
   "execution_count": 119,
   "id": "b7eb23ad-66dd-4f7c-830f-98620e38cc67",
   "metadata": {},
   "outputs": [
    {
     "name": "stdout",
     "output_type": "stream",
     "text": [
      "2025-03-27 14:13:15.416715\n",
      "2025-03-27 14:13:40.301944\n",
      "2025-03-27 14:14:04.504215\n",
      "2025-03-27 14:14:33.163424\n",
      "2025-03-27 14:15:03.051175\n",
      "2025-03-27 14:15:38.043198\n",
      "2025-03-27 14:16:12.114299\n",
      "2025-03-27 14:16:36.234252\n",
      "2025-03-27 14:17:01.042848\n"
     ]
    }
   ],
   "source": [
    "# 输入与输出目录\n",
    "input_dir = \"/N/project/Zli_lab/gongg/stage4_data/LST\"\n",
    "output_dir = \"/N/project/Zli_lab/gongg/stage4_data/JJA_LST\"\n",
    "\n",
    "# 获取输入目录下所有 .nc 文件\n",
    "all_files = glob.glob(os.path.join(input_dir, \"*.nc\"))\n",
    "\n",
    "# 根据文件名按 (year, utc_offset) 分组\n",
    "groups = {}\n",
    "for file in all_files:\n",
    "    basename = os.path.basename(file)  # 如 \"200506_U-8.nc\"\n",
    "    name, ext = os.path.splitext(basename)  # name: \"200506_U-8\"\n",
    "    # year 为前4位\n",
    "    year = name[:4]\n",
    "    # utc 部分：通过下划线分隔，第二部分如 \"U-8\"\n",
    "    parts = name.split('_')\n",
    "    if len(parts) < 2:\n",
    "        continue\n",
    "    utc_str = parts[1]  # e.g., \"U-8\"\n",
    "    # 去掉 'U' 后转成 int（这里 -8 表示 UTC-8）\n",
    "    offset = int(utc_str.replace('U', ''))\n",
    "    key = (year, offset)\n",
    "    groups.setdefault(key, []).append(file)\n",
    "\n",
    "\n",
    "# 遍历每个分组，读取组合数据，筛选6、7、8月，并保存到指定目录\n",
    "counter = 0\n",
    "for (year, offset), files in groups.items():\n",
    "    ds = xr.open_mfdataset(files, combine='by_coords')\n",
    "    ds_jja = ds.where(ds.time.dt.month.isin([6, 7, 8]), drop=True)\n",
    "    \n",
    "    output_filename = f\"{year}_U_{abs(offset)}.nc\"\n",
    "    output_path = os.path.join(output_dir, output_filename)\n",
    "    ds_jja.to_netcdf(output_path)\n",
    "    \n",
    "    counter += 1\n",
    "    if counter % 10 == 0:\n",
    "        print(datetime.now())"
   ]
  },
  {
   "cell_type": "code",
   "execution_count": null,
   "id": "4865dad6-9145-40f9-a2d4-0468c36544de",
   "metadata": {},
   "outputs": [],
   "source": []
  }
 ],
 "metadata": {
  "kernelspec": {
   "display_name": "Python (gongg)",
   "language": "python",
   "name": "gongg"
  },
  "language_info": {
   "codemirror_mode": {
    "name": "ipython",
    "version": 3
   },
   "file_extension": ".py",
   "mimetype": "text/x-python",
   "name": "python",
   "nbconvert_exporter": "python",
   "pygments_lexer": "ipython3",
   "version": "3.10.16"
  }
 },
 "nbformat": 4,
 "nbformat_minor": 5
}
